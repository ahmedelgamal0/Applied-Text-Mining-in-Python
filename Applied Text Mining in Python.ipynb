{
 "cells": [
  {
   "cell_type": "markdown",
   "id": "ed9dfb0b",
   "metadata": {},
   "source": [
    "# Module 1: Working with Text in Python"
   ]
  },
  {
   "cell_type": "markdown",
   "id": "ed44b6b6",
   "metadata": {},
   "source": [
    "## Working with text\n",
    "<br>\n",
    "\n",
    "**String Operations**\n",
    "\n",
    "`s.lower()`; `s.upper()`; `s.titlecase()`\n",
    "\n",
    "`s.split(t)`\n",
    "\n",
    "`s.splitlines()`\n",
    "\n",
    "`s.join(t)`\n",
    "\n",
    "`s.strip()`; `s.rstrip()`\n",
    "\n",
    "`s.find(t)`; `s.rfind(t)`\n",
    "\n",
    "`s.replace(u, v)`\n",
    "\n",
    "`s.startswith(t)` \n",
    "\n",
    "`s.endswith(t)` \n",
    "\n",
    "`t in s` \n",
    "\n",
    "`s.isupper()`; `s.islower()`; `s.istitle()` \n",
    "\n",
    "`s.isalpha()`; `s.isdigit()`; `s.isalnum()`\n",
    "\n",
    "**File Operations**\n",
    "\n",
    "`f = open(filename, mode)`\n",
    "\n",
    "`f.readline()`; `f.read()`; `f.read(n)`\n",
    "\n",
    "`for line in f: doSomething(line)`\n",
    "\n",
    "`f.seek(n)`\n",
    "\n",
    "`f.write(message)`\n",
    "\n",
    "`f.close()`\n",
    "\n",
    "`f.close`"
   ]
  },
  {
   "cell_type": "code",
   "execution_count": 97,
   "id": "2c55c27a",
   "metadata": {},
   "outputs": [
    {
     "data": {
      "text/plain": [
       "76"
      ]
     },
     "execution_count": 97,
     "metadata": {},
     "output_type": "execute_result"
    }
   ],
   "source": [
    "text1 = \"Ethics are built right into the ideals and objectives of the United Nations \"\n",
    "\n",
    "len(text1)"
   ]
  },
  {
   "cell_type": "code",
   "execution_count": 98,
   "id": "4941a70f",
   "metadata": {},
   "outputs": [
    {
     "data": {
      "text/plain": [
       "14"
      ]
     },
     "execution_count": 98,
     "metadata": {},
     "output_type": "execute_result"
    }
   ],
   "source": [
    "text2 = text1.split(' ')\n",
    "len(text2)"
   ]
  },
  {
   "cell_type": "code",
   "execution_count": 99,
   "id": "2a596387",
   "metadata": {},
   "outputs": [
    {
     "data": {
      "text/plain": [
       "['Ethics',\n",
       " 'are',\n",
       " 'built',\n",
       " 'right',\n",
       " 'into',\n",
       " 'the',\n",
       " 'ideals',\n",
       " 'and',\n",
       " 'objectives',\n",
       " 'of',\n",
       " 'the',\n",
       " 'United',\n",
       " 'Nations',\n",
       " '']"
      ]
     },
     "execution_count": 99,
     "metadata": {},
     "output_type": "execute_result"
    }
   ],
   "source": [
    "text2"
   ]
  },
  {
   "cell_type": "code",
   "execution_count": 100,
   "id": "a1243773",
   "metadata": {},
   "outputs": [
    {
     "data": {
      "text/plain": [
       "['Ethics',\n",
       " 'built',\n",
       " 'right',\n",
       " 'into',\n",
       " 'ideals',\n",
       " 'objectives',\n",
       " 'United',\n",
       " 'Nations']"
      ]
     },
     "execution_count": 100,
     "metadata": {},
     "output_type": "execute_result"
    }
   ],
   "source": [
    "[w for w in text2 if len(w) > 3]"
   ]
  },
  {
   "cell_type": "code",
   "execution_count": 101,
   "id": "8663269f",
   "metadata": {},
   "outputs": [
    {
     "data": {
      "text/plain": [
       "['Ethics', 'United', 'Nations']"
      ]
     },
     "execution_count": 101,
     "metadata": {},
     "output_type": "execute_result"
    }
   ],
   "source": [
    "[w for w in text2 if w.istitle()]"
   ]
  },
  {
   "cell_type": "code",
   "execution_count": 102,
   "id": "113aac25",
   "metadata": {},
   "outputs": [
    {
     "data": {
      "text/plain": [
       "['Ethics', 'ideals', 'objectives', 'Nations']"
      ]
     },
     "execution_count": 102,
     "metadata": {},
     "output_type": "execute_result"
    }
   ],
   "source": [
    "[w for w in text2 if w.endswith('s')]"
   ]
  },
  {
   "cell_type": "code",
   "execution_count": 103,
   "id": "a9fb0455",
   "metadata": {},
   "outputs": [
    {
     "data": {
      "text/plain": [
       "6"
      ]
     },
     "execution_count": 103,
     "metadata": {},
     "output_type": "execute_result"
    }
   ],
   "source": [
    "text3 = 'To be or not to be'\n",
    "text4 = text3.split(' ')\n",
    "\n",
    "len(text4)"
   ]
  },
  {
   "cell_type": "code",
   "execution_count": 104,
   "id": "449be33d",
   "metadata": {},
   "outputs": [
    {
     "data": {
      "text/plain": [
       "5"
      ]
     },
     "execution_count": 104,
     "metadata": {},
     "output_type": "execute_result"
    }
   ],
   "source": [
    "len(set(text4))"
   ]
  },
  {
   "cell_type": "code",
   "execution_count": 105,
   "id": "eb37e351",
   "metadata": {},
   "outputs": [
    {
     "data": {
      "text/plain": [
       "{'To', 'be', 'not', 'or', 'to'}"
      ]
     },
     "execution_count": 105,
     "metadata": {},
     "output_type": "execute_result"
    }
   ],
   "source": [
    "set(text4)"
   ]
  },
  {
   "cell_type": "code",
   "execution_count": 106,
   "id": "99f80e72",
   "metadata": {},
   "outputs": [
    {
     "data": {
      "text/plain": [
       "4"
      ]
     },
     "execution_count": 106,
     "metadata": {},
     "output_type": "execute_result"
    }
   ],
   "source": [
    "len(set([w.lower() for w in text4]))"
   ]
  },
  {
   "cell_type": "code",
   "execution_count": 107,
   "id": "cfb8f45a",
   "metadata": {},
   "outputs": [
    {
     "data": {
      "text/plain": [
       "{'be', 'not', 'or', 'to'}"
      ]
     },
     "execution_count": 107,
     "metadata": {},
     "output_type": "execute_result"
    }
   ],
   "source": [
    "set([w.lower() for w in text4])"
   ]
  },
  {
   "cell_type": "code",
   "execution_count": 1,
   "id": "e14506e0",
   "metadata": {},
   "outputs": [],
   "source": [
    "text5 = '\"Ethics are built right into the ideals and objectives of the United Nations\" \\\n",
    "#UNSG @ NY Society for Ethical Culture bit.ly/2guVelr'"
   ]
  },
  {
   "cell_type": "code",
   "execution_count": 108,
   "id": "dc457ebd",
   "metadata": {},
   "outputs": [
    {
     "data": {
      "text/plain": [
       "['\"Ethics',\n",
       " 'are',\n",
       " 'built',\n",
       " 'right',\n",
       " 'into',\n",
       " 'the',\n",
       " 'ideals',\n",
       " 'and',\n",
       " 'objectives',\n",
       " 'of',\n",
       " 'the',\n",
       " 'United',\n",
       " 'Nations\"',\n",
       " '#UNSG',\n",
       " '@',\n",
       " 'NY',\n",
       " 'Society',\n",
       " 'for',\n",
       " 'Ethical',\n",
       " 'Culture',\n",
       " 'bit.ly/2guVelr']"
      ]
     },
     "execution_count": 108,
     "metadata": {},
     "output_type": "execute_result"
    }
   ],
   "source": [
    "text6 = text5.split(' ')\n",
    "text6"
   ]
  },
  {
   "cell_type": "code",
   "execution_count": 5,
   "id": "076a8b8a",
   "metadata": {},
   "outputs": [
    {
     "data": {
      "text/plain": [
       "['#UNSG']"
      ]
     },
     "execution_count": 5,
     "metadata": {},
     "output_type": "execute_result"
    }
   ],
   "source": [
    "[w for w in text6 if w.startswith('#')]"
   ]
  },
  {
   "cell_type": "code",
   "execution_count": 6,
   "id": "7bc9401f",
   "metadata": {},
   "outputs": [
    {
     "data": {
      "text/plain": [
       "['@']"
      ]
     },
     "execution_count": 6,
     "metadata": {},
     "output_type": "execute_result"
    }
   ],
   "source": [
    "[w for w in text6 if w.startswith('@')]"
   ]
  },
  {
   "cell_type": "code",
   "execution_count": 7,
   "id": "61cd2186",
   "metadata": {},
   "outputs": [],
   "source": [
    "text7 = '@UN @UN_Women \"Ethics are built right into the ideals and objectives of the United Nations\" \\\n",
    "#UNSG @ NY Society for Ethical Culture bit.ly/2guVelr'\n",
    "text8 = text7.split(' ')"
   ]
  },
  {
   "cell_type": "code",
   "execution_count": 8,
   "id": "e8f0b920",
   "metadata": {},
   "outputs": [
    {
     "data": {
      "text/plain": [
       "['@UN',\n",
       " '@UN_Women',\n",
       " '\"Ethics',\n",
       " 'are',\n",
       " 'built',\n",
       " 'right',\n",
       " 'into',\n",
       " 'the',\n",
       " 'ideals',\n",
       " 'and',\n",
       " 'objectives',\n",
       " 'of',\n",
       " 'the',\n",
       " 'United',\n",
       " 'Nations\"',\n",
       " '#UNSG',\n",
       " '@',\n",
       " 'NY',\n",
       " 'Society',\n",
       " 'for',\n",
       " 'Ethical',\n",
       " 'Culture',\n",
       " 'bit.ly/2guVelr']"
      ]
     },
     "execution_count": 8,
     "metadata": {},
     "output_type": "execute_result"
    }
   ],
   "source": [
    "text8"
   ]
  },
  {
   "cell_type": "code",
   "execution_count": 9,
   "id": "2bf875ce",
   "metadata": {},
   "outputs": [
    {
     "data": {
      "text/plain": [
       "['#UNSG']"
      ]
     },
     "execution_count": 9,
     "metadata": {},
     "output_type": "execute_result"
    }
   ],
   "source": [
    "[w for w in text8 if w.startswith('#')]"
   ]
  },
  {
   "cell_type": "code",
   "execution_count": 10,
   "id": "f84078c5",
   "metadata": {},
   "outputs": [
    {
     "data": {
      "text/plain": [
       "['@UN', '@UN_Women', '@']"
      ]
     },
     "execution_count": 10,
     "metadata": {},
     "output_type": "execute_result"
    }
   ],
   "source": [
    "[w for w in text8 if w.startswith('@')]"
   ]
  },
  {
   "cell_type": "markdown",
   "id": "d645876f",
   "metadata": {},
   "source": [
    "## Regular Expressions\n",
    "<br>\n",
    "\n",
    "We can use regular expressions to help us with more complex parsing. \n",
    "\n",
    "For example `'@[A-Za-z0-9_]+'` will return all words that: \n",
    "* start with `'@'` and are followed by at least one: \n",
    "* capital letter (`'A-Z'`)\n",
    "* lowercase letter (`'a-z'`) \n",
    "* number (`'0-9'`)\n",
    "* or underscore (`'_'`)"
   ]
  },
  {
   "cell_type": "code",
   "execution_count": 13,
   "id": "4a762eda",
   "metadata": {},
   "outputs": [],
   "source": [
    "import re"
   ]
  },
  {
   "cell_type": "code",
   "execution_count": 12,
   "id": "00794a20",
   "metadata": {},
   "outputs": [
    {
     "data": {
      "text/plain": [
       "['@UN', '@UN_Women']"
      ]
     },
     "execution_count": 12,
     "metadata": {},
     "output_type": "execute_result"
    }
   ],
   "source": [
    "[w for w in text8 if re.search('@[A-Za-z0-9_]+',w)]"
   ]
  },
  {
   "cell_type": "markdown",
   "id": "00d69366",
   "metadata": {},
   "source": [
    "### Meta-characters: Character matches \n",
    "`.` : wildcard, matches a single character.\n",
    "\n",
    "`^` : start of a string\n",
    "\n",
    "`$` : end of a string\n",
    "\n",
    "`[]` : matches one of the set of characters within []\n",
    "\n",
    "`[a-z]` : matches one of the range of characters a, b, …, z\n",
    "\n",
    "`[^abc]` : matches a character that is not a, b, or, c\n",
    "\n",
    "`a|b` : matches either a or b, where a and b are strings\n",
    "\n",
    "`()` : Scoping for operators\n",
    "\n",
    "`\\` : Escape character for special characters (\\t, \\n, \\b)\n",
    "\n",
    "### Meta-characters: Character symbols \n",
    "`\\b` : Matches word boundary\n",
    "\n",
    "`\\d` : Any digit, equivalent to [0-9]\n",
    "\n",
    "`\\D` : Any non-digit, equivalent to [^0-9]\n",
    "\n",
    "`\\s` : Any whitespace, equivalent to [ \\t\\n\\r\\f\\v]\n",
    "\n",
    "`\\S` : Any non-whitespace, equivalent to [^ \\t\\n\\r\\f\\v]\n",
    "\n",
    "`\\w` : Alphanumeric character, equivalent to [a-zA-Z0-9_]\n",
    "\n",
    "`\\W` : Non-alphanumeric, equivalent to [^a-zA-Z0-9_]\n"
   ]
  },
  {
   "cell_type": "markdown",
   "id": "b608806a",
   "metadata": {},
   "source": [
    "### Meta-characters: Repetitions \n",
    "`*` : matches zero or more occurrences \n",
    "\n",
    "`+` : matches one or more occurrences \n",
    "\n",
    "`?` : matches zero or one occurrences \n",
    "\n",
    "`{n}` : exactly n repetitions, n≥ 0 \n",
    "\n",
    "`{n,}` : at least n repetitions \n",
    "\n",
    "`{,n}` : at most n repetitions \n",
    "\n",
    "`{m,n}` : at least m and at most n repetitions"
   ]
  },
  {
   "cell_type": "code",
   "execution_count": 14,
   "id": "b38606c1",
   "metadata": {},
   "outputs": [
    {
     "data": {
      "text/plain": [
       "['@UN', '@UN_Women']"
      ]
     },
     "execution_count": 14,
     "metadata": {},
     "output_type": "execute_result"
    }
   ],
   "source": [
    "[w for w in text8 if re.search('@\\w+',w)]"
   ]
  },
  {
   "cell_type": "code",
   "execution_count": 20,
   "id": "9f07a84c",
   "metadata": {},
   "outputs": [],
   "source": [
    "text9 = 'ouagadougou'"
   ]
  },
  {
   "cell_type": "code",
   "execution_count": 21,
   "id": "69d038da",
   "metadata": {},
   "outputs": [
    {
     "data": {
      "text/plain": [
       "['o', 'u', 'a', 'a', 'o', 'u', 'o', 'u']"
      ]
     },
     "execution_count": 21,
     "metadata": {},
     "output_type": "execute_result"
    }
   ],
   "source": [
    "re.findall(r'[aeiou]',text9)"
   ]
  },
  {
   "cell_type": "code",
   "execution_count": 22,
   "id": "d0612c0e",
   "metadata": {},
   "outputs": [
    {
     "data": {
      "text/plain": [
       "['g', 'd', 'g']"
      ]
     },
     "execution_count": 22,
     "metadata": {},
     "output_type": "execute_result"
    }
   ],
   "source": [
    "re.findall(r'[^aeiou]',text9)"
   ]
  },
  {
   "cell_type": "markdown",
   "id": "605148fe",
   "metadata": {},
   "source": [
    "### Regular expression for Dates\n",
    "`\\d{2}[/-]\\d{2}[/-]\\d{4}` **Means**\n",
    "\n",
    "Two digits << `/`or`-` << Two digits << `/`or`-` << Four digits\n",
    "\n",
    "`\\d{1,2}` **Means** one or two digits"
   ]
  },
  {
   "cell_type": "code",
   "execution_count": 25,
   "id": "9328b0f7",
   "metadata": {},
   "outputs": [],
   "source": [
    "dateStr = \"23-10-2002\\n23/10/2002\\n23/10/02\\n10/23/2002\\n23 Oct 2002\\n23 October 2002\\nOct 23, 2002\\nOctober 23, 2002\\n\""
   ]
  },
  {
   "cell_type": "code",
   "execution_count": 26,
   "id": "2df5d175",
   "metadata": {},
   "outputs": [
    {
     "data": {
      "text/plain": [
       "['23-10-2002', '23/10/2002', '10/23/2002']"
      ]
     },
     "execution_count": 26,
     "metadata": {},
     "output_type": "execute_result"
    }
   ],
   "source": [
    "re.findall('\\d{2}[/-]\\d{2}[/-]\\d{4}',dateStr)"
   ]
  },
  {
   "cell_type": "code",
   "execution_count": 27,
   "id": "d955570e",
   "metadata": {},
   "outputs": [
    {
     "data": {
      "text/plain": [
       "['23-10-2002', '23/10/2002', '23/10/02', '10/23/2002']"
      ]
     },
     "execution_count": 27,
     "metadata": {},
     "output_type": "execute_result"
    }
   ],
   "source": [
    "re.findall('\\d{2}[/-]\\d{2}[/-]\\d{2,4}',dateStr)"
   ]
  },
  {
   "cell_type": "code",
   "execution_count": 28,
   "id": "b2293ca4",
   "metadata": {},
   "outputs": [
    {
     "data": {
      "text/plain": [
       "['23-10-2002', '23/10/2002', '23/10/02', '10/23/2002']"
      ]
     },
     "execution_count": 28,
     "metadata": {},
     "output_type": "execute_result"
    }
   ],
   "source": [
    "re.findall('\\d{1,2}[/-]\\d{1,2}[/-]\\d{2,4}',dateStr)"
   ]
  },
  {
   "cell_type": "code",
   "execution_count": 29,
   "id": "7c93aafc",
   "metadata": {},
   "outputs": [
    {
     "data": {
      "text/plain": [
       "['Oct']"
      ]
     },
     "execution_count": 29,
     "metadata": {},
     "output_type": "execute_result"
    }
   ],
   "source": [
    "re.findall(r'\\d{2} (Jan|Feb|Mar|Apr|May|Jun|Jul|Aug|Sep|Oct|Nov|Dec) \\d{4}', dateStr)"
   ]
  },
  {
   "cell_type": "markdown",
   "id": "bf78202e",
   "metadata": {},
   "source": [
    "Bracket indicates scoping meaning that it will only pulls the match inside the brackets."
   ]
  },
  {
   "cell_type": "code",
   "execution_count": 30,
   "id": "5ed57c59",
   "metadata": {},
   "outputs": [
    {
     "data": {
      "text/plain": [
       "['23 Oct 2002']"
      ]
     },
     "execution_count": 30,
     "metadata": {},
     "output_type": "execute_result"
    }
   ],
   "source": [
    "re.findall(r'\\d{2} (?:Jan|Feb|Mar|Apr|May|Jun|Jul|Aug|Sep|Oct|Nov|Dec) \\d{4}', dateStr)"
   ]
  },
  {
   "cell_type": "markdown",
   "id": "ea689121",
   "metadata": {},
   "source": [
    "Using the question mark colon `?:` special character sequence indicates that not only pull the inside bracket match but the hole string."
   ]
  },
  {
   "cell_type": "code",
   "execution_count": 32,
   "id": "52375a85",
   "metadata": {},
   "outputs": [
    {
     "data": {
      "text/plain": [
       "['23 Oct 2002', '23 October 2002']"
      ]
     },
     "execution_count": 32,
     "metadata": {},
     "output_type": "execute_result"
    }
   ],
   "source": [
    "re.findall(r'\\d{2} (?:Jan|Feb|Mar|Apr|May|Jun|Jul|Aug|Sep|Oct|Nov|Dec)[a-z]* \\d{4}', dateStr)"
   ]
  },
  {
   "cell_type": "code",
   "execution_count": 33,
   "id": "8e6686ef",
   "metadata": {},
   "outputs": [
    {
     "data": {
      "text/plain": [
       "['23 Oct 2002', '23 October 2002', 'Oct 23, 2002', 'October 23, 2002']"
      ]
     },
     "execution_count": 33,
     "metadata": {},
     "output_type": "execute_result"
    }
   ],
   "source": [
    "re.findall(r'(?:\\d{2} )?(?:Jan|Feb|Mar|Apr|May|Jun|Jul|Aug|Sep|Oct|Nov|Dec)[a-z]* (?:\\d{2}, )?\\d{4}', dateStr)"
   ]
  },
  {
   "cell_type": "markdown",
   "id": "bf595a2f",
   "metadata": {},
   "source": [
    "## Working with Text Data in pandas"
   ]
  },
  {
   "cell_type": "code",
   "execution_count": 34,
   "id": "8853ea63",
   "metadata": {},
   "outputs": [
    {
     "data": {
      "text/html": [
       "<div>\n",
       "<style scoped>\n",
       "    .dataframe tbody tr th:only-of-type {\n",
       "        vertical-align: middle;\n",
       "    }\n",
       "\n",
       "    .dataframe tbody tr th {\n",
       "        vertical-align: top;\n",
       "    }\n",
       "\n",
       "    .dataframe thead th {\n",
       "        text-align: right;\n",
       "    }\n",
       "</style>\n",
       "<table border=\"1\" class=\"dataframe\">\n",
       "  <thead>\n",
       "    <tr style=\"text-align: right;\">\n",
       "      <th></th>\n",
       "      <th>text</th>\n",
       "    </tr>\n",
       "  </thead>\n",
       "  <tbody>\n",
       "    <tr>\n",
       "      <th>0</th>\n",
       "      <td>Monday: The doctor's appointment is at 2:45pm.</td>\n",
       "    </tr>\n",
       "    <tr>\n",
       "      <th>1</th>\n",
       "      <td>Tuesday: The dentist's appointment is at 11:30...</td>\n",
       "    </tr>\n",
       "    <tr>\n",
       "      <th>2</th>\n",
       "      <td>Wednesday: At 7:00pm, there is a basketball game!</td>\n",
       "    </tr>\n",
       "    <tr>\n",
       "      <th>3</th>\n",
       "      <td>Thursday: Be back home by 11:15 pm at the latest.</td>\n",
       "    </tr>\n",
       "    <tr>\n",
       "      <th>4</th>\n",
       "      <td>Friday: Take the train at 08:10 am, arrive at ...</td>\n",
       "    </tr>\n",
       "  </tbody>\n",
       "</table>\n",
       "</div>"
      ],
      "text/plain": [
       "                                                text\n",
       "0     Monday: The doctor's appointment is at 2:45pm.\n",
       "1  Tuesday: The dentist's appointment is at 11:30...\n",
       "2  Wednesday: At 7:00pm, there is a basketball game!\n",
       "3  Thursday: Be back home by 11:15 pm at the latest.\n",
       "4  Friday: Take the train at 08:10 am, arrive at ..."
      ]
     },
     "execution_count": 34,
     "metadata": {},
     "output_type": "execute_result"
    }
   ],
   "source": [
    "import pandas as pd\n",
    "\n",
    "time_sentences = [\"Monday: The doctor's appointment is at 2:45pm.\", \n",
    "                  \"Tuesday: The dentist's appointment is at 11:30 am.\",\n",
    "                  \"Wednesday: At 7:00pm, there is a basketball game!\",\n",
    "                  \"Thursday: Be back home by 11:15 pm at the latest.\",\n",
    "                  \"Friday: Take the train at 08:10 am, arrive at 09:00am.\"]\n",
    "\n",
    "df = pd.DataFrame(time_sentences, columns=['text'])\n",
    "df"
   ]
  },
  {
   "cell_type": "code",
   "execution_count": 46,
   "id": "ee70976b",
   "metadata": {},
   "outputs": [
    {
     "data": {
      "text/plain": [
       "0    46\n",
       "1    50\n",
       "2    49\n",
       "3    49\n",
       "4    54\n",
       "Name: text, dtype: int64"
      ]
     },
     "execution_count": 46,
     "metadata": {},
     "output_type": "execute_result"
    }
   ],
   "source": [
    "# find the number of characters for each string in df['text']\n",
    "df['text'].str.len()"
   ]
  },
  {
   "cell_type": "code",
   "execution_count": 48,
   "id": "2d614e79",
   "metadata": {},
   "outputs": [
    {
     "data": {
      "text/plain": [
       "0     7\n",
       "1     8\n",
       "2     8\n",
       "3    10\n",
       "4    10\n",
       "Name: text, dtype: int64"
      ]
     },
     "execution_count": 48,
     "metadata": {},
     "output_type": "execute_result"
    }
   ],
   "source": [
    "# find the number of tokens for each string in df['text']\n",
    "df['text'].str.split().str.len()"
   ]
  },
  {
   "cell_type": "code",
   "execution_count": 51,
   "id": "47f4da3f",
   "metadata": {},
   "outputs": [
    {
     "data": {
      "text/plain": [
       "0     True\n",
       "1     True\n",
       "2    False\n",
       "3    False\n",
       "4    False\n",
       "Name: text, dtype: bool"
      ]
     },
     "execution_count": 51,
     "metadata": {},
     "output_type": "execute_result"
    }
   ],
   "source": [
    "# find which entries contain the word 'appointment'\n",
    "df['text'].str.contains('appointment')"
   ]
  },
  {
   "cell_type": "code",
   "execution_count": 54,
   "id": "22325457",
   "metadata": {},
   "outputs": [
    {
     "data": {
      "text/plain": [
       "text    2\n",
       "dtype: int64"
      ]
     },
     "execution_count": 54,
     "metadata": {},
     "output_type": "execute_result"
    }
   ],
   "source": [
    "df[df['text'].str.contains('appointment') == True].count()"
   ]
  },
  {
   "cell_type": "code",
   "execution_count": 55,
   "id": "2d6eafec",
   "metadata": {},
   "outputs": [
    {
     "data": {
      "text/plain": [
       "0    3\n",
       "1    4\n",
       "2    3\n",
       "3    4\n",
       "4    8\n",
       "Name: text, dtype: int64"
      ]
     },
     "execution_count": 55,
     "metadata": {},
     "output_type": "execute_result"
    }
   ],
   "source": [
    "# find how many times a digit occurs in each string\n",
    "df['text'].str.count(r'\\d')"
   ]
  },
  {
   "cell_type": "code",
   "execution_count": 56,
   "id": "15576040",
   "metadata": {},
   "outputs": [
    {
     "data": {
      "text/plain": [
       "0                   [2, 4, 5]\n",
       "1                [1, 1, 3, 0]\n",
       "2                   [7, 0, 0]\n",
       "3                [1, 1, 1, 5]\n",
       "4    [0, 8, 1, 0, 0, 9, 0, 0]\n",
       "Name: text, dtype: object"
      ]
     },
     "execution_count": 56,
     "metadata": {},
     "output_type": "execute_result"
    }
   ],
   "source": [
    "# find all occurances of the digits\n",
    "df['text'].str.findall(r'\\d')"
   ]
  },
  {
   "cell_type": "code",
   "execution_count": 59,
   "id": "6c12a776",
   "metadata": {},
   "outputs": [
    {
     "data": {
      "text/plain": [
       "0               [(2, 45)]\n",
       "1              [(11, 30)]\n",
       "2               [(7, 00)]\n",
       "3              [(11, 15)]\n",
       "4    [(08, 10), (09, 00)]\n",
       "Name: text, dtype: object"
      ]
     },
     "execution_count": 59,
     "metadata": {},
     "output_type": "execute_result"
    }
   ],
   "source": [
    "# group and find the hours and minutes\n",
    "df['text'].str.findall(r'(\\d?\\d):(\\d\\d)')"
   ]
  },
  {
   "cell_type": "code",
   "execution_count": 62,
   "id": "5a9897fd",
   "metadata": {},
   "outputs": [
    {
     "data": {
      "text/plain": [
       "0            [2:45]\n",
       "1           [11:30]\n",
       "2            [7:00]\n",
       "3           [11:15]\n",
       "4    [08:10, 09:00]\n",
       "Name: text, dtype: object"
      ]
     },
     "execution_count": 62,
     "metadata": {},
     "output_type": "execute_result"
    }
   ],
   "source": [
    "df['text'].str.findall(r'\\d?\\d:\\d\\d')"
   ]
  },
  {
   "cell_type": "code",
   "execution_count": 79,
   "id": "6d4fdae7",
   "metadata": {},
   "outputs": [
    {
     "name": "stderr",
     "output_type": "stream",
     "text": [
      "C:\\Users\\Ahmed Elgamal\\AppData\\Local\\Temp\\ipykernel_11736\\236677803.py:2: FutureWarning: The default value of regex will change from True to False in a future version.\n",
      "  df['text'].str.replace(r'\\w+day\\b','???')\n"
     ]
    },
    {
     "data": {
      "text/plain": [
       "0          ???: The doctor's appointment is at 2:45pm.\n",
       "1       ???: The dentist's appointment is at 11:30 am.\n",
       "2          ???: At 7:00pm, there is a basketball game!\n",
       "3         ???: Be back home by 11:15 pm at the latest.\n",
       "4    ???: Take the train at 08:10 am, arrive at 09:...\n",
       "Name: text, dtype: object"
      ]
     },
     "execution_count": 79,
     "metadata": {},
     "output_type": "execute_result"
    }
   ],
   "source": [
    "# replace weekdays with '???'\n",
    "df['text'].str.replace(r'\\w+day\\b','???')"
   ]
  },
  {
   "cell_type": "code",
   "execution_count": 83,
   "id": "2ca55f72",
   "metadata": {
    "scrolled": false
   },
   "outputs": [
    {
     "name": "stderr",
     "output_type": "stream",
     "text": [
      "C:\\Users\\Ahmed Elgamal\\AppData\\Local\\Temp\\ipykernel_11736\\2830391340.py:2: FutureWarning: The default value of regex will change from True to False in a future version.\n",
      "  df['text'].str.replace(r'(\\w+day\\b)',lambda x: x.groups()[0][:3])\n"
     ]
    },
    {
     "data": {
      "text/plain": [
       "0          Mon: The doctor's appointment is at 2:45pm.\n",
       "1       Tue: The dentist's appointment is at 11:30 am.\n",
       "2          Wed: At 7:00pm, there is a basketball game!\n",
       "3         Thu: Be back home by 11:15 pm at the latest.\n",
       "4    Fri: Take the train at 08:10 am, arrive at 09:...\n",
       "Name: text, dtype: object"
      ]
     },
     "execution_count": 83,
     "metadata": {},
     "output_type": "execute_result"
    }
   ],
   "source": [
    "# replace weekdays with 3 letter abbrevations\n",
    "df['text'].str.replace(r'(\\w+day\\b)',lambda x: x.groups()[0][:3])"
   ]
  },
  {
   "cell_type": "code",
   "execution_count": 87,
   "id": "82fce08c",
   "metadata": {},
   "outputs": [
    {
     "data": {
      "text/plain": [
       "0       [Monday]\n",
       "1      [Tuesday]\n",
       "2    [Wednesday]\n",
       "3     [Thursday]\n",
       "4       [Friday]\n",
       "Name: text, dtype: object"
      ]
     },
     "execution_count": 87,
     "metadata": {},
     "output_type": "execute_result"
    }
   ],
   "source": [
    "df['text'].str.findall(r'(\\w+day\\b)')"
   ]
  },
  {
   "cell_type": "code",
   "execution_count": 88,
   "id": "f9ff3e63",
   "metadata": {},
   "outputs": [
    {
     "data": {
      "text/html": [
       "<div>\n",
       "<style scoped>\n",
       "    .dataframe tbody tr th:only-of-type {\n",
       "        vertical-align: middle;\n",
       "    }\n",
       "\n",
       "    .dataframe tbody tr th {\n",
       "        vertical-align: top;\n",
       "    }\n",
       "\n",
       "    .dataframe thead th {\n",
       "        text-align: right;\n",
       "    }\n",
       "</style>\n",
       "<table border=\"1\" class=\"dataframe\">\n",
       "  <thead>\n",
       "    <tr style=\"text-align: right;\">\n",
       "      <th></th>\n",
       "      <th>0</th>\n",
       "      <th>1</th>\n",
       "    </tr>\n",
       "  </thead>\n",
       "  <tbody>\n",
       "    <tr>\n",
       "      <th>0</th>\n",
       "      <td>2</td>\n",
       "      <td>45</td>\n",
       "    </tr>\n",
       "    <tr>\n",
       "      <th>1</th>\n",
       "      <td>11</td>\n",
       "      <td>30</td>\n",
       "    </tr>\n",
       "    <tr>\n",
       "      <th>2</th>\n",
       "      <td>7</td>\n",
       "      <td>00</td>\n",
       "    </tr>\n",
       "    <tr>\n",
       "      <th>3</th>\n",
       "      <td>11</td>\n",
       "      <td>15</td>\n",
       "    </tr>\n",
       "    <tr>\n",
       "      <th>4</th>\n",
       "      <td>08</td>\n",
       "      <td>10</td>\n",
       "    </tr>\n",
       "  </tbody>\n",
       "</table>\n",
       "</div>"
      ],
      "text/plain": [
       "    0   1\n",
       "0   2  45\n",
       "1  11  30\n",
       "2   7  00\n",
       "3  11  15\n",
       "4  08  10"
      ]
     },
     "execution_count": 88,
     "metadata": {},
     "output_type": "execute_result"
    }
   ],
   "source": [
    "# create new columns from first match of extracted groups\n",
    "df['text'].str.extract(r'(\\d?\\d):(\\d\\d)')"
   ]
  },
  {
   "cell_type": "code",
   "execution_count": 90,
   "id": "c4def3e9",
   "metadata": {
    "scrolled": true
   },
   "outputs": [
    {
     "data": {
      "text/html": [
       "<div>\n",
       "<style scoped>\n",
       "    .dataframe tbody tr th:only-of-type {\n",
       "        vertical-align: middle;\n",
       "    }\n",
       "\n",
       "    .dataframe tbody tr th {\n",
       "        vertical-align: top;\n",
       "    }\n",
       "\n",
       "    .dataframe thead th {\n",
       "        text-align: right;\n",
       "    }\n",
       "</style>\n",
       "<table border=\"1\" class=\"dataframe\">\n",
       "  <thead>\n",
       "    <tr style=\"text-align: right;\">\n",
       "      <th></th>\n",
       "      <th></th>\n",
       "      <th>0</th>\n",
       "      <th>1</th>\n",
       "      <th>2</th>\n",
       "      <th>3</th>\n",
       "    </tr>\n",
       "    <tr>\n",
       "      <th></th>\n",
       "      <th>match</th>\n",
       "      <th></th>\n",
       "      <th></th>\n",
       "      <th></th>\n",
       "      <th></th>\n",
       "    </tr>\n",
       "  </thead>\n",
       "  <tbody>\n",
       "    <tr>\n",
       "      <th>0</th>\n",
       "      <th>0</th>\n",
       "      <td>2:45pm</td>\n",
       "      <td>2</td>\n",
       "      <td>45</td>\n",
       "      <td>pm</td>\n",
       "    </tr>\n",
       "    <tr>\n",
       "      <th>1</th>\n",
       "      <th>0</th>\n",
       "      <td>11:30 am</td>\n",
       "      <td>11</td>\n",
       "      <td>30</td>\n",
       "      <td>am</td>\n",
       "    </tr>\n",
       "    <tr>\n",
       "      <th>2</th>\n",
       "      <th>0</th>\n",
       "      <td>7:00pm</td>\n",
       "      <td>7</td>\n",
       "      <td>00</td>\n",
       "      <td>pm</td>\n",
       "    </tr>\n",
       "    <tr>\n",
       "      <th>3</th>\n",
       "      <th>0</th>\n",
       "      <td>11:15 pm</td>\n",
       "      <td>11</td>\n",
       "      <td>15</td>\n",
       "      <td>pm</td>\n",
       "    </tr>\n",
       "    <tr>\n",
       "      <th rowspan=\"2\" valign=\"top\">4</th>\n",
       "      <th>0</th>\n",
       "      <td>08:10 am</td>\n",
       "      <td>08</td>\n",
       "      <td>10</td>\n",
       "      <td>am</td>\n",
       "    </tr>\n",
       "    <tr>\n",
       "      <th>1</th>\n",
       "      <td>09:00am</td>\n",
       "      <td>09</td>\n",
       "      <td>00</td>\n",
       "      <td>am</td>\n",
       "    </tr>\n",
       "  </tbody>\n",
       "</table>\n",
       "</div>"
      ],
      "text/plain": [
       "                0   1   2   3\n",
       "  match                      \n",
       "0 0        2:45pm   2  45  pm\n",
       "1 0      11:30 am  11  30  am\n",
       "2 0        7:00pm   7  00  pm\n",
       "3 0      11:15 pm  11  15  pm\n",
       "4 0      08:10 am  08  10  am\n",
       "  1       09:00am  09  00  am"
      ]
     },
     "execution_count": 90,
     "metadata": {},
     "output_type": "execute_result"
    }
   ],
   "source": [
    "# extract the entire time, the hours, the minutes, and the period\n",
    "df['text'].str.extractall(r'((\\d?\\d):(\\d\\d) ?([ap]m))')"
   ]
  },
  {
   "cell_type": "code",
   "execution_count": 93,
   "id": "4334999f",
   "metadata": {
    "scrolled": true
   },
   "outputs": [
    {
     "data": {
      "text/plain": [
       "0                   [(2, 45, pm)]\n",
       "1                  [(11, 30, am)]\n",
       "2                   [(7, 00, pm)]\n",
       "3                  [(11, 15, pm)]\n",
       "4    [(08, 10, am), (09, 00, am)]\n",
       "Name: text, dtype: object"
      ]
     },
     "execution_count": 93,
     "metadata": {},
     "output_type": "execute_result"
    }
   ],
   "source": [
    "df['text'].str.findall(r'(\\d?\\d):(\\d\\d) ?([ap]m)')"
   ]
  },
  {
   "cell_type": "code",
   "execution_count": 94,
   "id": "a07a73b7",
   "metadata": {},
   "outputs": [
    {
     "data": {
      "text/plain": [
       "0                              [(2:45pm, 2, 45, pm)]\n",
       "1                           [(11:30 am, 11, 30, am)]\n",
       "2                              [(7:00pm, 7, 00, pm)]\n",
       "3                           [(11:15 pm, 11, 15, pm)]\n",
       "4    [(08:10 am, 08, 10, am), (09:00am, 09, 00, am)]\n",
       "Name: text, dtype: object"
      ]
     },
     "execution_count": 94,
     "metadata": {},
     "output_type": "execute_result"
    }
   ],
   "source": [
    "df['text'].str.findall(r'((\\d?\\d):(\\d\\d) ?([ap]m))')"
   ]
  },
  {
   "cell_type": "code",
   "execution_count": 96,
   "id": "da894650",
   "metadata": {},
   "outputs": [
    {
     "data": {
      "text/html": [
       "<div>\n",
       "<style scoped>\n",
       "    .dataframe tbody tr th:only-of-type {\n",
       "        vertical-align: middle;\n",
       "    }\n",
       "\n",
       "    .dataframe tbody tr th {\n",
       "        vertical-align: top;\n",
       "    }\n",
       "\n",
       "    .dataframe thead th {\n",
       "        text-align: right;\n",
       "    }\n",
       "</style>\n",
       "<table border=\"1\" class=\"dataframe\">\n",
       "  <thead>\n",
       "    <tr style=\"text-align: right;\">\n",
       "      <th></th>\n",
       "      <th></th>\n",
       "      <th>Time</th>\n",
       "      <th>Hour</th>\n",
       "      <th>Minute</th>\n",
       "      <th>Period</th>\n",
       "    </tr>\n",
       "    <tr>\n",
       "      <th></th>\n",
       "      <th>match</th>\n",
       "      <th></th>\n",
       "      <th></th>\n",
       "      <th></th>\n",
       "      <th></th>\n",
       "    </tr>\n",
       "  </thead>\n",
       "  <tbody>\n",
       "    <tr>\n",
       "      <th>0</th>\n",
       "      <th>0</th>\n",
       "      <td>2:45pm</td>\n",
       "      <td>2</td>\n",
       "      <td>45</td>\n",
       "      <td>pm</td>\n",
       "    </tr>\n",
       "    <tr>\n",
       "      <th>1</th>\n",
       "      <th>0</th>\n",
       "      <td>11:30 am</td>\n",
       "      <td>11</td>\n",
       "      <td>30</td>\n",
       "      <td>am</td>\n",
       "    </tr>\n",
       "    <tr>\n",
       "      <th>2</th>\n",
       "      <th>0</th>\n",
       "      <td>7:00pm</td>\n",
       "      <td>7</td>\n",
       "      <td>00</td>\n",
       "      <td>pm</td>\n",
       "    </tr>\n",
       "    <tr>\n",
       "      <th>3</th>\n",
       "      <th>0</th>\n",
       "      <td>11:15 pm</td>\n",
       "      <td>11</td>\n",
       "      <td>15</td>\n",
       "      <td>pm</td>\n",
       "    </tr>\n",
       "    <tr>\n",
       "      <th rowspan=\"2\" valign=\"top\">4</th>\n",
       "      <th>0</th>\n",
       "      <td>08:10 am</td>\n",
       "      <td>08</td>\n",
       "      <td>10</td>\n",
       "      <td>am</td>\n",
       "    </tr>\n",
       "    <tr>\n",
       "      <th>1</th>\n",
       "      <td>09:00am</td>\n",
       "      <td>09</td>\n",
       "      <td>00</td>\n",
       "      <td>am</td>\n",
       "    </tr>\n",
       "  </tbody>\n",
       "</table>\n",
       "</div>"
      ],
      "text/plain": [
       "             Time Hour Minute Period\n",
       "  match                             \n",
       "0 0        2:45pm    2     45     pm\n",
       "1 0      11:30 am   11     30     am\n",
       "2 0        7:00pm    7     00     pm\n",
       "3 0      11:15 pm   11     15     pm\n",
       "4 0      08:10 am   08     10     am\n",
       "  1       09:00am   09     00     am"
      ]
     },
     "execution_count": 96,
     "metadata": {},
     "output_type": "execute_result"
    }
   ],
   "source": [
    "# extract the entire time, the hours, the minutes, and the period with group names\n",
    "df['text'].str.extractall(r'(?P<Time>(?P<Hour>\\d?\\d):(?P<Minute>\\d\\d) ?(?P<Period>[ap]m))')"
   ]
  },
  {
   "cell_type": "markdown",
   "id": "951a8ef0",
   "metadata": {},
   "source": [
    "# Module 2: Basic Natural Language Processing"
   ]
  },
  {
   "cell_type": "code",
   "execution_count": 1,
   "id": "71b82ae6",
   "metadata": {},
   "outputs": [],
   "source": [
    "import nltk"
   ]
  },
  {
   "cell_type": "code",
   "execution_count": 9,
   "id": "d72aa77f",
   "metadata": {},
   "outputs": [
    {
     "name": "stdout",
     "output_type": "stream",
     "text": [
      "showing info https://raw.githubusercontent.com/nltk/nltk_data/gh-pages/index.xml\n"
     ]
    },
    {
     "data": {
      "text/plain": [
       "True"
      ]
     },
     "execution_count": 9,
     "metadata": {},
     "output_type": "execute_result"
    }
   ],
   "source": [
    "nltk.download()"
   ]
  },
  {
   "cell_type": "code",
   "execution_count": 10,
   "id": "39f0b46f",
   "metadata": {},
   "outputs": [],
   "source": [
    "from nltk.book import *"
   ]
  },
  {
   "cell_type": "code",
   "execution_count": 13,
   "id": "b1481d71",
   "metadata": {},
   "outputs": [
    {
     "name": "stdout",
     "output_type": "stream",
     "text": [
      "text1: Moby Dick by Herman Melville 1851\n",
      "text2: Sense and Sensibility by Jane Austen 1811\n",
      "text3: The Book of Genesis\n",
      "text4: Inaugural Address Corpus\n",
      "text5: Chat Corpus\n",
      "text6: Monty Python and the Holy Grail\n",
      "text7: Wall Street Journal\n",
      "text8: Personals Corpus\n",
      "text9: The Man Who Was Thursday by G . K . Chesterton 1908\n"
     ]
    }
   ],
   "source": [
    "texts()"
   ]
  },
  {
   "cell_type": "code",
   "execution_count": 14,
   "id": "401f894e",
   "metadata": {},
   "outputs": [
    {
     "data": {
      "text/plain": [
       "<Text: Moby Dick by Herman Melville 1851>"
      ]
     },
     "execution_count": 14,
     "metadata": {},
     "output_type": "execute_result"
    }
   ],
   "source": [
    "text1"
   ]
  },
  {
   "cell_type": "code",
   "execution_count": 15,
   "id": "c0172b58",
   "metadata": {},
   "outputs": [
    {
     "name": "stdout",
     "output_type": "stream",
     "text": [
      "sent1: Call me Ishmael .\n",
      "sent2: The family of Dashwood had long been settled in Sussex .\n",
      "sent3: In the beginning God created the heaven and the earth .\n",
      "sent4: Fellow - Citizens of the Senate and of the House of Representatives :\n",
      "sent5: I have a problem with people PMing me to lol JOIN\n",
      "sent6: SCENE 1 : [ wind ] [ clop clop clop ] KING ARTHUR : Whoa there !\n",
      "sent7: Pierre Vinken , 61 years old , will join the board as a nonexecutive director Nov. 29 .\n",
      "sent8: 25 SEXY MALE , seeks attrac older single lady , for discreet encounters .\n",
      "sent9: THE suburb of Saffron Park lay on the sunset side of London , as red and ragged as a cloud of sunset .\n"
     ]
    }
   ],
   "source": [
    "sents()"
   ]
  },
  {
   "cell_type": "code",
   "execution_count": 16,
   "id": "d69ca858",
   "metadata": {},
   "outputs": [
    {
     "data": {
      "text/plain": [
       "['Call', 'me', 'Ishmael', '.']"
      ]
     },
     "execution_count": 16,
     "metadata": {},
     "output_type": "execute_result"
    }
   ],
   "source": [
    "sent1"
   ]
  },
  {
   "cell_type": "code",
   "execution_count": 17,
   "id": "c2d4578c",
   "metadata": {},
   "outputs": [
    {
     "data": {
      "text/plain": [
       "<Text: Wall Street Journal>"
      ]
     },
     "execution_count": 17,
     "metadata": {},
     "output_type": "execute_result"
    }
   ],
   "source": [
    "text7"
   ]
  },
  {
   "cell_type": "code",
   "execution_count": 18,
   "id": "e3a520a8",
   "metadata": {},
   "outputs": [
    {
     "data": {
      "text/plain": [
       "['Pierre',\n",
       " 'Vinken',\n",
       " ',',\n",
       " '61',\n",
       " 'years',\n",
       " 'old',\n",
       " ',',\n",
       " 'will',\n",
       " 'join',\n",
       " 'the',\n",
       " 'board',\n",
       " 'as',\n",
       " 'a',\n",
       " 'nonexecutive',\n",
       " 'director',\n",
       " 'Nov.',\n",
       " '29',\n",
       " '.']"
      ]
     },
     "execution_count": 18,
     "metadata": {},
     "output_type": "execute_result"
    }
   ],
   "source": [
    "sent7"
   ]
  },
  {
   "cell_type": "code",
   "execution_count": 19,
   "id": "2fb506e1",
   "metadata": {},
   "outputs": [
    {
     "data": {
      "text/plain": [
       "18"
      ]
     },
     "execution_count": 19,
     "metadata": {},
     "output_type": "execute_result"
    }
   ],
   "source": [
    "len(sent7)"
   ]
  },
  {
   "cell_type": "code",
   "execution_count": 20,
   "id": "ce7c7c70",
   "metadata": {},
   "outputs": [
    {
     "data": {
      "text/plain": [
       "100676"
      ]
     },
     "execution_count": 20,
     "metadata": {},
     "output_type": "execute_result"
    }
   ],
   "source": [
    "len(text7)"
   ]
  },
  {
   "cell_type": "code",
   "execution_count": 21,
   "id": "2e171b47",
   "metadata": {},
   "outputs": [
    {
     "data": {
      "text/plain": [
       "12408"
      ]
     },
     "execution_count": 21,
     "metadata": {},
     "output_type": "execute_result"
    }
   ],
   "source": [
    "len(set(text7))"
   ]
  },
  {
   "cell_type": "code",
   "execution_count": 22,
   "id": "b8ad439d",
   "metadata": {},
   "outputs": [
    {
     "data": {
      "text/plain": [
       "['Perhaps',\n",
       " 'spot',\n",
       " 'noncompetitively',\n",
       " 'Driskill',\n",
       " 'Auditors',\n",
       " '100,980',\n",
       " 'enact',\n",
       " 'loans',\n",
       " 'Phipps',\n",
       " 'trimming']"
      ]
     },
     "execution_count": 22,
     "metadata": {},
     "output_type": "execute_result"
    }
   ],
   "source": [
    "list(set(text7))[:10]"
   ]
  },
  {
   "cell_type": "code",
   "execution_count": 23,
   "id": "2a4fe2c0",
   "metadata": {},
   "outputs": [],
   "source": [
    "dist = FreqDist(text7)"
   ]
  },
  {
   "cell_type": "code",
   "execution_count": 24,
   "id": "27fab83c",
   "metadata": {},
   "outputs": [
    {
     "data": {
      "text/plain": [
       "12408"
      ]
     },
     "execution_count": 24,
     "metadata": {},
     "output_type": "execute_result"
    }
   ],
   "source": [
    "len(dist)"
   ]
  },
  {
   "cell_type": "code",
   "execution_count": 25,
   "id": "df865c87",
   "metadata": {},
   "outputs": [],
   "source": [
    "vocab = dist.keys()"
   ]
  },
  {
   "cell_type": "code",
   "execution_count": 28,
   "id": "27525435",
   "metadata": {},
   "outputs": [
    {
     "data": {
      "text/plain": [
       "['Pierre', 'Vinken', ',', '61', 'years', 'old', 'will', 'join', 'the', 'board']"
      ]
     },
     "execution_count": 28,
     "metadata": {},
     "output_type": "execute_result"
    }
   ],
   "source": [
    "list(vocab)[:10]"
   ]
  },
  {
   "cell_type": "code",
   "execution_count": 29,
   "id": "4f68d07d",
   "metadata": {},
   "outputs": [
    {
     "data": {
      "text/plain": [
       "4"
      ]
     },
     "execution_count": 29,
     "metadata": {},
     "output_type": "execute_result"
    }
   ],
   "source": [
    "dist['join']"
   ]
  },
  {
   "cell_type": "code",
   "execution_count": 35,
   "id": "cf3e13ee",
   "metadata": {},
   "outputs": [
    {
     "data": {
      "text/plain": [
       "['billion',\n",
       " 'company',\n",
       " 'president',\n",
       " 'because',\n",
       " 'market',\n",
       " 'million',\n",
       " 'shares',\n",
       " 'trading',\n",
       " 'program']"
      ]
     },
     "execution_count": 35,
     "metadata": {},
     "output_type": "execute_result"
    }
   ],
   "source": [
    "freqwords = [w for w in vocab if len(w)>5 and dist[w]>100]\n",
    "freqwords"
   ]
  },
  {
   "cell_type": "markdown",
   "id": "5edb240b",
   "metadata": {},
   "source": [
    "## Normalization and Stemming\n",
    "\n",
    "Different forms of the same “word”"
   ]
  },
  {
   "cell_type": "code",
   "execution_count": 36,
   "id": "878f6196",
   "metadata": {},
   "outputs": [],
   "source": [
    "input1 = \"List listed lists listing listings\""
   ]
  },
  {
   "cell_type": "code",
   "execution_count": 38,
   "id": "9f263fdd",
   "metadata": {},
   "outputs": [
    {
     "data": {
      "text/plain": [
       "['list', 'listed', 'lists', 'listing', 'listings']"
      ]
     },
     "execution_count": 38,
     "metadata": {},
     "output_type": "execute_result"
    }
   ],
   "source": [
    "words1 = input1.lower().split(' ')\n",
    "words1"
   ]
  },
  {
   "cell_type": "code",
   "execution_count": 41,
   "id": "cf8d7b4a",
   "metadata": {},
   "outputs": [],
   "source": [
    "porter = nltk.PorterStemmer()"
   ]
  },
  {
   "cell_type": "code",
   "execution_count": 43,
   "id": "cb0f4410",
   "metadata": {},
   "outputs": [
    {
     "data": {
      "text/plain": [
       "['list', 'list', 'list', 'list', 'list']"
      ]
     },
     "execution_count": 43,
     "metadata": {},
     "output_type": "execute_result"
    }
   ],
   "source": [
    "[porter.stem(t) for t in words1]"
   ]
  },
  {
   "cell_type": "markdown",
   "id": "24425b1e",
   "metadata": {},
   "source": [
    "## Lemmatization\n",
    "\n",
    "Stemming, but resulting stems are all valid words"
   ]
  },
  {
   "cell_type": "code",
   "execution_count": 44,
   "id": "68e8f79b",
   "metadata": {},
   "outputs": [],
   "source": [
    "udhr = nltk.corpus.udhr.words('English-Latin1')"
   ]
  },
  {
   "cell_type": "code",
   "execution_count": 45,
   "id": "dc3f2b3e",
   "metadata": {},
   "outputs": [
    {
     "data": {
      "text/plain": [
       "['Universal',\n",
       " 'Declaration',\n",
       " 'of',\n",
       " 'Human',\n",
       " 'Rights',\n",
       " 'Preamble',\n",
       " 'Whereas',\n",
       " 'recognition',\n",
       " 'of',\n",
       " 'the',\n",
       " 'inherent',\n",
       " 'dignity',\n",
       " 'and',\n",
       " 'of',\n",
       " 'the',\n",
       " 'equal',\n",
       " 'and',\n",
       " 'inalienable',\n",
       " 'rights',\n",
       " 'of']"
      ]
     },
     "execution_count": 45,
     "metadata": {},
     "output_type": "execute_result"
    }
   ],
   "source": [
    "udhr[:20]"
   ]
  },
  {
   "cell_type": "code",
   "execution_count": 46,
   "id": "ae91e146",
   "metadata": {},
   "outputs": [
    {
     "data": {
      "text/plain": [
       "['univers',\n",
       " 'declar',\n",
       " 'of',\n",
       " 'human',\n",
       " 'right',\n",
       " 'preambl',\n",
       " 'wherea',\n",
       " 'recognit',\n",
       " 'of',\n",
       " 'the',\n",
       " 'inher',\n",
       " 'digniti',\n",
       " 'and',\n",
       " 'of',\n",
       " 'the',\n",
       " 'equal',\n",
       " 'and',\n",
       " 'inalien',\n",
       " 'right',\n",
       " 'of',\n",
       " 'all',\n",
       " 'member',\n",
       " 'of',\n",
       " 'the',\n",
       " 'human',\n",
       " 'famili',\n",
       " 'is',\n",
       " 'the',\n",
       " 'foundat',\n",
       " 'of',\n",
       " 'freedom',\n",
       " ',',\n",
       " 'justic',\n",
       " 'and',\n",
       " 'peac',\n",
       " 'in',\n",
       " 'the',\n",
       " 'world',\n",
       " ',',\n",
       " 'wherea',\n",
       " 'disregard',\n",
       " 'and',\n",
       " 'contempt',\n",
       " 'for',\n",
       " 'human',\n",
       " 'right',\n",
       " 'have',\n",
       " 'result',\n",
       " 'in',\n",
       " 'barbar',\n",
       " 'act',\n",
       " 'which',\n",
       " 'have',\n",
       " 'outrag',\n",
       " 'the',\n",
       " 'conscienc',\n",
       " 'of',\n",
       " 'mankind',\n",
       " ',',\n",
       " 'and',\n",
       " 'the',\n",
       " 'advent',\n",
       " 'of',\n",
       " 'a',\n",
       " 'world',\n",
       " 'in',\n",
       " 'which',\n",
       " 'human',\n",
       " 'be',\n",
       " 'shall',\n",
       " 'enjoy',\n",
       " 'freedom',\n",
       " 'of',\n",
       " 'speech',\n",
       " 'and',\n",
       " 'belief',\n",
       " 'and',\n",
       " 'freedom',\n",
       " 'from',\n",
       " 'fear',\n",
       " 'and',\n",
       " 'want',\n",
       " 'ha',\n",
       " 'been',\n",
       " 'proclaim',\n",
       " 'as',\n",
       " 'the',\n",
       " 'highest',\n",
       " 'aspir',\n",
       " 'of',\n",
       " 'the',\n",
       " 'common',\n",
       " 'peopl',\n",
       " ',',\n",
       " 'wherea',\n",
       " 'it',\n",
       " 'is',\n",
       " 'essenti',\n",
       " ',',\n",
       " 'if',\n",
       " 'man',\n",
       " 'is',\n",
       " 'not',\n",
       " 'to',\n",
       " 'be',\n",
       " 'compel',\n",
       " 'to',\n",
       " 'have',\n",
       " 'recours',\n",
       " ',',\n",
       " 'as',\n",
       " 'a',\n",
       " 'last',\n",
       " 'resort',\n",
       " ',',\n",
       " 'to',\n",
       " 'rebellion',\n",
       " 'against',\n",
       " 'tyranni',\n",
       " 'and',\n",
       " 'oppress',\n",
       " ',',\n",
       " 'that',\n",
       " 'human',\n",
       " 'right',\n",
       " 'should',\n",
       " 'be',\n",
       " 'protect',\n",
       " 'by',\n",
       " 'the',\n",
       " 'rule',\n",
       " 'of',\n",
       " 'law',\n",
       " ',',\n",
       " 'wherea',\n",
       " 'it',\n",
       " 'is',\n",
       " 'essenti',\n",
       " 'to',\n",
       " 'promot',\n",
       " 'the',\n",
       " 'develop',\n",
       " 'of',\n",
       " 'friendli',\n",
       " 'relat',\n",
       " 'between',\n",
       " 'nation',\n",
       " ',',\n",
       " 'wherea',\n",
       " 'the',\n",
       " 'peopl',\n",
       " 'of',\n",
       " 'the',\n",
       " 'unit',\n",
       " 'nation',\n",
       " 'have',\n",
       " 'in',\n",
       " 'the',\n",
       " 'charter',\n",
       " 'reaffirm',\n",
       " 'their',\n",
       " 'faith',\n",
       " 'in',\n",
       " 'fundament',\n",
       " 'human',\n",
       " 'right',\n",
       " ',',\n",
       " 'in',\n",
       " 'the',\n",
       " 'digniti',\n",
       " 'and',\n",
       " 'worth',\n",
       " 'of',\n",
       " 'the',\n",
       " 'human',\n",
       " 'person',\n",
       " 'and',\n",
       " 'in',\n",
       " 'the',\n",
       " 'equal',\n",
       " 'right',\n",
       " 'of',\n",
       " 'men',\n",
       " 'and',\n",
       " 'women',\n",
       " 'and',\n",
       " 'have',\n",
       " 'determin',\n",
       " 'to',\n",
       " 'promot',\n",
       " 'social',\n",
       " 'progress',\n",
       " 'and',\n",
       " 'better',\n",
       " 'standard',\n",
       " 'of',\n",
       " 'life',\n",
       " 'in',\n",
       " 'larger',\n",
       " 'freedom',\n",
       " ',',\n",
       " 'wherea',\n",
       " 'member',\n",
       " 'state',\n",
       " 'have',\n",
       " 'pledg',\n",
       " 'themselv',\n",
       " 'to',\n",
       " 'achiev',\n",
       " ',',\n",
       " 'in',\n",
       " 'cooper',\n",
       " 'with',\n",
       " 'the',\n",
       " 'unit',\n",
       " 'nation',\n",
       " ',',\n",
       " 'the',\n",
       " 'promot',\n",
       " 'of',\n",
       " 'univers',\n",
       " 'respect',\n",
       " 'for',\n",
       " 'and',\n",
       " 'observ',\n",
       " 'of',\n",
       " 'human',\n",
       " 'right',\n",
       " 'and',\n",
       " 'fundament',\n",
       " 'freedom',\n",
       " ',',\n",
       " 'wherea',\n",
       " 'a',\n",
       " 'common',\n",
       " 'understand',\n",
       " 'of',\n",
       " 'these',\n",
       " 'right',\n",
       " 'and',\n",
       " 'freedom',\n",
       " 'is',\n",
       " 'of',\n",
       " 'the',\n",
       " 'greatest',\n",
       " 'import',\n",
       " 'for',\n",
       " 'the',\n",
       " 'full',\n",
       " 'realiz',\n",
       " 'of',\n",
       " 'thi',\n",
       " 'pledg',\n",
       " ',',\n",
       " 'now',\n",
       " ',',\n",
       " 'therefor',\n",
       " ',',\n",
       " 'the',\n",
       " 'gener',\n",
       " 'assembl',\n",
       " ',',\n",
       " 'proclaim',\n",
       " 'thi',\n",
       " 'univers',\n",
       " 'declar',\n",
       " 'of',\n",
       " 'human',\n",
       " 'right',\n",
       " 'as',\n",
       " 'a',\n",
       " 'common',\n",
       " 'standard',\n",
       " 'of',\n",
       " 'achiev',\n",
       " 'for',\n",
       " 'all',\n",
       " 'peopl',\n",
       " 'and',\n",
       " 'all',\n",
       " 'nation',\n",
       " ',',\n",
       " 'to',\n",
       " 'the',\n",
       " 'end',\n",
       " 'that',\n",
       " 'everi',\n",
       " 'individu',\n",
       " 'and',\n",
       " 'everi',\n",
       " 'organ',\n",
       " 'of',\n",
       " 'societi',\n",
       " ',',\n",
       " 'keep',\n",
       " 'thi',\n",
       " 'declar',\n",
       " 'constantli',\n",
       " 'in',\n",
       " 'mind',\n",
       " ',',\n",
       " 'shall',\n",
       " 'strive',\n",
       " 'by',\n",
       " 'teach',\n",
       " 'and',\n",
       " 'educ',\n",
       " 'to',\n",
       " 'promot',\n",
       " 'respect',\n",
       " 'for',\n",
       " 'these',\n",
       " 'right',\n",
       " 'and',\n",
       " 'freedom',\n",
       " 'and',\n",
       " 'by',\n",
       " 'progress',\n",
       " 'measur',\n",
       " ',',\n",
       " 'nation',\n",
       " 'and',\n",
       " 'intern',\n",
       " ',',\n",
       " 'to',\n",
       " 'secur',\n",
       " 'their',\n",
       " 'univers',\n",
       " 'and',\n",
       " 'effect',\n",
       " 'recognit',\n",
       " 'and',\n",
       " 'observ',\n",
       " ',',\n",
       " 'both',\n",
       " 'among',\n",
       " 'the',\n",
       " 'peopl',\n",
       " 'of',\n",
       " 'member',\n",
       " 'state',\n",
       " 'themselv',\n",
       " 'and',\n",
       " 'among',\n",
       " 'the',\n",
       " 'peopl',\n",
       " 'of',\n",
       " 'territori',\n",
       " 'under',\n",
       " 'their',\n",
       " 'jurisdict',\n",
       " '.',\n",
       " 'articl',\n",
       " '1',\n",
       " 'all',\n",
       " 'human',\n",
       " 'be',\n",
       " 'are',\n",
       " 'born',\n",
       " 'free',\n",
       " 'and',\n",
       " 'equal',\n",
       " 'in',\n",
       " 'digniti',\n",
       " 'and',\n",
       " 'right',\n",
       " '.',\n",
       " 'they',\n",
       " 'are',\n",
       " 'endow',\n",
       " 'with',\n",
       " 'reason',\n",
       " 'and',\n",
       " 'conscienc',\n",
       " 'and',\n",
       " 'should',\n",
       " 'act',\n",
       " 'toward',\n",
       " 'one',\n",
       " 'anoth',\n",
       " 'in',\n",
       " 'a',\n",
       " 'spirit',\n",
       " 'of',\n",
       " 'brotherhood',\n",
       " '.',\n",
       " 'articl',\n",
       " '2',\n",
       " 'everyon',\n",
       " 'is',\n",
       " 'entitl',\n",
       " 'to',\n",
       " 'all',\n",
       " 'the',\n",
       " 'right',\n",
       " 'and',\n",
       " 'freedom',\n",
       " 'set',\n",
       " 'forth',\n",
       " 'in',\n",
       " 'thi',\n",
       " 'declar',\n",
       " ',',\n",
       " 'without',\n",
       " 'distinct',\n",
       " 'of',\n",
       " 'ani',\n",
       " 'kind',\n",
       " ',',\n",
       " 'such',\n",
       " 'as',\n",
       " 'race',\n",
       " ',',\n",
       " 'colour',\n",
       " ',',\n",
       " 'sex',\n",
       " ',',\n",
       " 'languag',\n",
       " ',',\n",
       " 'religion',\n",
       " ',',\n",
       " 'polit',\n",
       " 'or',\n",
       " 'other',\n",
       " 'opinion',\n",
       " ',',\n",
       " 'nation',\n",
       " 'or',\n",
       " 'social',\n",
       " 'origin',\n",
       " ',',\n",
       " 'properti',\n",
       " ',',\n",
       " 'birth',\n",
       " 'or',\n",
       " 'other',\n",
       " 'statu',\n",
       " '.',\n",
       " 'furthermor',\n",
       " ',',\n",
       " 'no',\n",
       " 'distinct',\n",
       " 'shall',\n",
       " 'be',\n",
       " 'made',\n",
       " 'on',\n",
       " 'the',\n",
       " 'basi',\n",
       " 'of',\n",
       " 'the',\n",
       " 'polit',\n",
       " ',',\n",
       " 'jurisdict',\n",
       " 'or',\n",
       " 'intern',\n",
       " 'statu',\n",
       " 'of',\n",
       " 'the',\n",
       " 'countri',\n",
       " 'or',\n",
       " 'territori',\n",
       " 'to',\n",
       " 'which',\n",
       " 'a',\n",
       " 'person',\n",
       " 'belong',\n",
       " ',',\n",
       " 'whether',\n",
       " 'it',\n",
       " 'be',\n",
       " 'independ',\n",
       " ',',\n",
       " 'trust',\n",
       " ',',\n",
       " 'non',\n",
       " '-',\n",
       " 'self',\n",
       " '-',\n",
       " 'govern',\n",
       " 'or',\n",
       " 'under',\n",
       " 'ani',\n",
       " 'other',\n",
       " 'limit',\n",
       " 'of',\n",
       " 'sovereignti',\n",
       " '.',\n",
       " 'articl',\n",
       " '3',\n",
       " 'everyon',\n",
       " 'ha',\n",
       " 'the',\n",
       " 'right',\n",
       " 'to',\n",
       " 'life',\n",
       " ',',\n",
       " 'liberti',\n",
       " 'and',\n",
       " 'secur',\n",
       " 'of',\n",
       " 'person',\n",
       " '.',\n",
       " 'articl',\n",
       " '4',\n",
       " 'no',\n",
       " 'one',\n",
       " 'shall',\n",
       " 'be',\n",
       " 'held',\n",
       " 'in',\n",
       " 'slaveri',\n",
       " 'or',\n",
       " 'servitud',\n",
       " ';',\n",
       " 'slaveri',\n",
       " 'and',\n",
       " 'the',\n",
       " 'slave',\n",
       " 'trade',\n",
       " 'shall',\n",
       " 'be',\n",
       " 'prohibit',\n",
       " 'in',\n",
       " 'all',\n",
       " 'their',\n",
       " 'form',\n",
       " '.',\n",
       " 'articl',\n",
       " '5',\n",
       " 'no',\n",
       " 'one',\n",
       " 'shall',\n",
       " 'be',\n",
       " 'subject',\n",
       " 'to',\n",
       " 'tortur',\n",
       " 'or',\n",
       " 'to',\n",
       " 'cruel',\n",
       " ',',\n",
       " 'inhuman',\n",
       " 'or',\n",
       " 'degrad',\n",
       " 'treatment',\n",
       " 'or',\n",
       " 'punish',\n",
       " '.',\n",
       " 'articl',\n",
       " '6',\n",
       " 'everyon',\n",
       " 'ha',\n",
       " 'the',\n",
       " 'right',\n",
       " 'to',\n",
       " 'recognit',\n",
       " 'everywher',\n",
       " 'as',\n",
       " 'a',\n",
       " 'person',\n",
       " 'befor',\n",
       " 'the',\n",
       " 'law',\n",
       " '.',\n",
       " 'articl',\n",
       " '7',\n",
       " 'all',\n",
       " 'are',\n",
       " 'equal',\n",
       " 'befor',\n",
       " 'the',\n",
       " 'law',\n",
       " 'and',\n",
       " 'are',\n",
       " 'entitl',\n",
       " 'without',\n",
       " 'ani',\n",
       " 'discrimin',\n",
       " 'to',\n",
       " 'equal',\n",
       " 'protect',\n",
       " 'of',\n",
       " 'the',\n",
       " 'law',\n",
       " '.',\n",
       " 'all',\n",
       " 'are',\n",
       " 'entitl',\n",
       " 'to',\n",
       " 'equal',\n",
       " 'protect',\n",
       " 'against',\n",
       " 'ani',\n",
       " 'discrimin',\n",
       " 'in',\n",
       " 'violat',\n",
       " 'of',\n",
       " 'thi',\n",
       " 'declar',\n",
       " 'and',\n",
       " 'against',\n",
       " 'ani',\n",
       " 'incit',\n",
       " 'to',\n",
       " 'such',\n",
       " 'discrimin',\n",
       " '.',\n",
       " 'articl',\n",
       " '8',\n",
       " 'everyon',\n",
       " 'ha',\n",
       " 'the',\n",
       " 'right',\n",
       " 'to',\n",
       " 'an',\n",
       " 'effect',\n",
       " 'remedi',\n",
       " 'by',\n",
       " 'the',\n",
       " 'compet',\n",
       " 'nation',\n",
       " 'tribun',\n",
       " 'for',\n",
       " 'act',\n",
       " 'violat',\n",
       " 'the',\n",
       " 'fundament',\n",
       " 'right',\n",
       " 'grant',\n",
       " 'him',\n",
       " 'by',\n",
       " 'the',\n",
       " 'constitut',\n",
       " 'or',\n",
       " 'by',\n",
       " 'law',\n",
       " '.',\n",
       " 'articl',\n",
       " '9',\n",
       " 'no',\n",
       " 'one',\n",
       " 'shall',\n",
       " 'be',\n",
       " 'subject',\n",
       " 'to',\n",
       " 'arbitrari',\n",
       " 'arrest',\n",
       " ',',\n",
       " 'detent',\n",
       " 'or',\n",
       " 'exil',\n",
       " '.',\n",
       " 'articl',\n",
       " '10',\n",
       " 'everyon',\n",
       " 'is',\n",
       " 'entitl',\n",
       " 'in',\n",
       " 'full',\n",
       " 'equal',\n",
       " 'to',\n",
       " 'a',\n",
       " 'fair',\n",
       " 'and',\n",
       " 'public',\n",
       " 'hear',\n",
       " 'by',\n",
       " 'an',\n",
       " 'independ',\n",
       " 'and',\n",
       " 'imparti',\n",
       " 'tribun',\n",
       " ',',\n",
       " 'in',\n",
       " 'the',\n",
       " 'determin',\n",
       " 'of',\n",
       " 'hi',\n",
       " 'right',\n",
       " 'and',\n",
       " 'oblig',\n",
       " 'and',\n",
       " 'of',\n",
       " 'ani',\n",
       " 'crimin',\n",
       " 'charg',\n",
       " 'against',\n",
       " 'him',\n",
       " '.',\n",
       " 'articl',\n",
       " '11',\n",
       " 'everyon',\n",
       " 'charg',\n",
       " 'with',\n",
       " 'a',\n",
       " 'penal',\n",
       " 'offenc',\n",
       " 'ha',\n",
       " 'the',\n",
       " 'right',\n",
       " 'to',\n",
       " 'be',\n",
       " 'presum',\n",
       " 'innoc',\n",
       " 'until',\n",
       " 'prove',\n",
       " 'guilti',\n",
       " 'accord',\n",
       " 'to',\n",
       " 'law',\n",
       " 'in',\n",
       " 'a',\n",
       " 'public',\n",
       " 'trial',\n",
       " 'at',\n",
       " 'which',\n",
       " 'he',\n",
       " 'ha',\n",
       " 'had',\n",
       " 'all',\n",
       " 'the',\n",
       " 'guarante',\n",
       " 'necessari',\n",
       " 'for',\n",
       " 'hi',\n",
       " 'defenc',\n",
       " '.',\n",
       " 'no',\n",
       " 'one',\n",
       " 'shall',\n",
       " 'be',\n",
       " 'held',\n",
       " 'guilti',\n",
       " 'of',\n",
       " 'ani',\n",
       " 'penal',\n",
       " 'offenc',\n",
       " 'on',\n",
       " 'account',\n",
       " 'of',\n",
       " 'ani',\n",
       " 'act',\n",
       " 'or',\n",
       " 'omiss',\n",
       " 'which',\n",
       " 'did',\n",
       " 'not',\n",
       " 'constitut',\n",
       " 'a',\n",
       " 'penal',\n",
       " 'offenc',\n",
       " ',',\n",
       " 'under',\n",
       " 'nation',\n",
       " 'or',\n",
       " 'intern',\n",
       " 'law',\n",
       " ',',\n",
       " 'at',\n",
       " 'the',\n",
       " 'time',\n",
       " 'when',\n",
       " 'it',\n",
       " 'wa',\n",
       " 'commit',\n",
       " '.',\n",
       " 'nor',\n",
       " 'shall',\n",
       " 'a',\n",
       " 'heavier',\n",
       " 'penalti',\n",
       " 'be',\n",
       " 'impos',\n",
       " 'than',\n",
       " 'the',\n",
       " 'one',\n",
       " 'that',\n",
       " 'wa',\n",
       " 'applic',\n",
       " 'at',\n",
       " 'the',\n",
       " 'time',\n",
       " 'the',\n",
       " 'penal',\n",
       " 'offenc',\n",
       " 'wa',\n",
       " 'commit',\n",
       " '.',\n",
       " 'articl',\n",
       " '12',\n",
       " 'no',\n",
       " 'one',\n",
       " 'shall',\n",
       " 'be',\n",
       " 'subject',\n",
       " 'to',\n",
       " 'arbitrari',\n",
       " 'interfer',\n",
       " 'with',\n",
       " 'hi',\n",
       " 'privaci',\n",
       " ',',\n",
       " 'famili',\n",
       " ',',\n",
       " 'home',\n",
       " 'or',\n",
       " 'correspond',\n",
       " ',',\n",
       " 'nor',\n",
       " 'to',\n",
       " 'attack',\n",
       " 'upon',\n",
       " 'hi',\n",
       " 'honour',\n",
       " 'and',\n",
       " 'reput',\n",
       " '.',\n",
       " 'everyon',\n",
       " 'ha',\n",
       " 'the',\n",
       " 'right',\n",
       " 'to',\n",
       " 'the',\n",
       " 'protect',\n",
       " 'of',\n",
       " 'the',\n",
       " 'law',\n",
       " 'against',\n",
       " 'such',\n",
       " 'interfer',\n",
       " 'or',\n",
       " 'attack',\n",
       " '.',\n",
       " 'articl',\n",
       " '13',\n",
       " 'everyon',\n",
       " 'ha',\n",
       " 'the',\n",
       " 'right',\n",
       " 'to',\n",
       " 'freedom',\n",
       " 'of',\n",
       " 'movement',\n",
       " 'and',\n",
       " 'resid',\n",
       " 'within',\n",
       " 'the',\n",
       " 'border',\n",
       " 'of',\n",
       " 'each',\n",
       " 'state',\n",
       " '.',\n",
       " 'everyon',\n",
       " 'ha',\n",
       " 'the',\n",
       " 'right',\n",
       " 'to',\n",
       " 'leav',\n",
       " 'ani',\n",
       " 'countri',\n",
       " ',',\n",
       " 'includ',\n",
       " 'hi',\n",
       " 'own',\n",
       " ',',\n",
       " 'and',\n",
       " 'to',\n",
       " 'return',\n",
       " 'to',\n",
       " 'hi',\n",
       " 'countri',\n",
       " '.',\n",
       " 'articl',\n",
       " '14',\n",
       " 'everyon',\n",
       " 'ha',\n",
       " 'the',\n",
       " 'right',\n",
       " 'to',\n",
       " 'seek',\n",
       " 'and',\n",
       " 'to',\n",
       " 'enjoy',\n",
       " 'in',\n",
       " 'other',\n",
       " 'countri',\n",
       " 'asylum',\n",
       " 'from',\n",
       " 'persecut',\n",
       " '.',\n",
       " 'thi',\n",
       " 'right',\n",
       " 'may',\n",
       " 'not',\n",
       " 'be',\n",
       " 'invok',\n",
       " 'in',\n",
       " 'the',\n",
       " 'case',\n",
       " 'of',\n",
       " 'prosecut',\n",
       " 'genuin',\n",
       " 'aris',\n",
       " 'from',\n",
       " 'non',\n",
       " '-',\n",
       " 'polit',\n",
       " 'crime',\n",
       " 'or',\n",
       " 'from',\n",
       " 'act',\n",
       " 'contrari',\n",
       " 'to',\n",
       " 'the',\n",
       " 'purpos',\n",
       " 'and',\n",
       " 'principl',\n",
       " 'of',\n",
       " 'the',\n",
       " 'unit',\n",
       " 'nation',\n",
       " '.',\n",
       " 'articl',\n",
       " '15',\n",
       " 'everyon',\n",
       " 'ha',\n",
       " 'the',\n",
       " 'right',\n",
       " 'to',\n",
       " 'a',\n",
       " 'nation',\n",
       " '.',\n",
       " 'no',\n",
       " 'one',\n",
       " 'shall',\n",
       " 'be',\n",
       " 'arbitrarili',\n",
       " 'depriv',\n",
       " 'of',\n",
       " 'hi',\n",
       " 'nation',\n",
       " 'nor',\n",
       " 'deni',\n",
       " 'the',\n",
       " 'right',\n",
       " 'to',\n",
       " 'chang',\n",
       " 'hi',\n",
       " 'nation',\n",
       " '.',\n",
       " 'articl',\n",
       " '16',\n",
       " 'men',\n",
       " 'and',\n",
       " 'women',\n",
       " 'of',\n",
       " 'full',\n",
       " 'age',\n",
       " ',',\n",
       " 'without',\n",
       " 'ani',\n",
       " 'limit',\n",
       " 'due',\n",
       " 'to',\n",
       " 'race',\n",
       " ',',\n",
       " 'nation',\n",
       " 'or',\n",
       " 'religion',\n",
       " ',',\n",
       " 'have',\n",
       " 'the',\n",
       " 'right',\n",
       " 'to',\n",
       " 'marri',\n",
       " 'and',\n",
       " 'to',\n",
       " 'found',\n",
       " 'a',\n",
       " 'famili',\n",
       " '.',\n",
       " 'they',\n",
       " 'are',\n",
       " 'entitl',\n",
       " 'to',\n",
       " 'equal',\n",
       " 'right',\n",
       " 'as',\n",
       " 'to',\n",
       " 'marriag',\n",
       " ',',\n",
       " 'dure',\n",
       " 'marriag',\n",
       " 'and',\n",
       " 'at',\n",
       " 'it',\n",
       " 'dissolut',\n",
       " '.',\n",
       " 'marriag',\n",
       " 'shall',\n",
       " 'be',\n",
       " ...]"
      ]
     },
     "execution_count": 46,
     "metadata": {},
     "output_type": "execute_result"
    }
   ],
   "source": [
    "[porter.stem(t) for t in udhr]"
   ]
  },
  {
   "cell_type": "code",
   "execution_count": 47,
   "id": "d7115329",
   "metadata": {},
   "outputs": [],
   "source": [
    "wnlemma = nltk.WordNetLemmatizer()"
   ]
  },
  {
   "cell_type": "code",
   "execution_count": 48,
   "id": "c83df58a",
   "metadata": {},
   "outputs": [
    {
     "data": {
      "text/plain": [
       "['Universal',\n",
       " 'Declaration',\n",
       " 'of',\n",
       " 'Human',\n",
       " 'Rights',\n",
       " 'Preamble',\n",
       " 'Whereas',\n",
       " 'recognition',\n",
       " 'of',\n",
       " 'the',\n",
       " 'inherent',\n",
       " 'dignity',\n",
       " 'and',\n",
       " 'of',\n",
       " 'the',\n",
       " 'equal',\n",
       " 'and',\n",
       " 'inalienable',\n",
       " 'right',\n",
       " 'of',\n",
       " 'all',\n",
       " 'member',\n",
       " 'of',\n",
       " 'the',\n",
       " 'human',\n",
       " 'family',\n",
       " 'is',\n",
       " 'the',\n",
       " 'foundation',\n",
       " 'of',\n",
       " 'freedom',\n",
       " ',',\n",
       " 'justice',\n",
       " 'and',\n",
       " 'peace',\n",
       " 'in',\n",
       " 'the',\n",
       " 'world',\n",
       " ',',\n",
       " 'Whereas',\n",
       " 'disregard',\n",
       " 'and',\n",
       " 'contempt',\n",
       " 'for',\n",
       " 'human',\n",
       " 'right',\n",
       " 'have',\n",
       " 'resulted',\n",
       " 'in',\n",
       " 'barbarous',\n",
       " 'act',\n",
       " 'which',\n",
       " 'have',\n",
       " 'outraged',\n",
       " 'the',\n",
       " 'conscience',\n",
       " 'of',\n",
       " 'mankind',\n",
       " ',',\n",
       " 'and',\n",
       " 'the',\n",
       " 'advent',\n",
       " 'of',\n",
       " 'a',\n",
       " 'world',\n",
       " 'in',\n",
       " 'which',\n",
       " 'human',\n",
       " 'being',\n",
       " 'shall',\n",
       " 'enjoy',\n",
       " 'freedom',\n",
       " 'of',\n",
       " 'speech',\n",
       " 'and',\n",
       " 'belief',\n",
       " 'and',\n",
       " 'freedom',\n",
       " 'from',\n",
       " 'fear',\n",
       " 'and',\n",
       " 'want',\n",
       " 'ha',\n",
       " 'been',\n",
       " 'proclaimed',\n",
       " 'a',\n",
       " 'the',\n",
       " 'highest',\n",
       " 'aspiration',\n",
       " 'of',\n",
       " 'the',\n",
       " 'common',\n",
       " 'people',\n",
       " ',',\n",
       " 'Whereas',\n",
       " 'it',\n",
       " 'is',\n",
       " 'essential',\n",
       " ',',\n",
       " 'if',\n",
       " 'man',\n",
       " 'is',\n",
       " 'not',\n",
       " 'to',\n",
       " 'be',\n",
       " 'compelled',\n",
       " 'to',\n",
       " 'have',\n",
       " 'recourse',\n",
       " ',',\n",
       " 'a',\n",
       " 'a',\n",
       " 'last',\n",
       " 'resort',\n",
       " ',',\n",
       " 'to',\n",
       " 'rebellion',\n",
       " 'against',\n",
       " 'tyranny',\n",
       " 'and',\n",
       " 'oppression',\n",
       " ',',\n",
       " 'that',\n",
       " 'human',\n",
       " 'right',\n",
       " 'should',\n",
       " 'be',\n",
       " 'protected',\n",
       " 'by',\n",
       " 'the',\n",
       " 'rule',\n",
       " 'of',\n",
       " 'law',\n",
       " ',',\n",
       " 'Whereas',\n",
       " 'it',\n",
       " 'is',\n",
       " 'essential',\n",
       " 'to',\n",
       " 'promote',\n",
       " 'the',\n",
       " 'development',\n",
       " 'of',\n",
       " 'friendly',\n",
       " 'relation',\n",
       " 'between',\n",
       " 'nation',\n",
       " ',',\n",
       " 'Whereas',\n",
       " 'the',\n",
       " 'people',\n",
       " 'of',\n",
       " 'the',\n",
       " 'United',\n",
       " 'Nations',\n",
       " 'have',\n",
       " 'in',\n",
       " 'the',\n",
       " 'Charter',\n",
       " 'reaffirmed',\n",
       " 'their',\n",
       " 'faith',\n",
       " 'in',\n",
       " 'fundamental',\n",
       " 'human',\n",
       " 'right',\n",
       " ',',\n",
       " 'in',\n",
       " 'the',\n",
       " 'dignity',\n",
       " 'and',\n",
       " 'worth',\n",
       " 'of',\n",
       " 'the',\n",
       " 'human',\n",
       " 'person',\n",
       " 'and',\n",
       " 'in',\n",
       " 'the',\n",
       " 'equal',\n",
       " 'right',\n",
       " 'of',\n",
       " 'men',\n",
       " 'and',\n",
       " 'woman',\n",
       " 'and',\n",
       " 'have',\n",
       " 'determined',\n",
       " 'to',\n",
       " 'promote',\n",
       " 'social',\n",
       " 'progress',\n",
       " 'and',\n",
       " 'better',\n",
       " 'standard',\n",
       " 'of',\n",
       " 'life',\n",
       " 'in',\n",
       " 'larger',\n",
       " 'freedom',\n",
       " ',',\n",
       " 'Whereas',\n",
       " 'Member',\n",
       " 'States',\n",
       " 'have',\n",
       " 'pledged',\n",
       " 'themselves',\n",
       " 'to',\n",
       " 'achieve',\n",
       " ',',\n",
       " 'in',\n",
       " 'cooperation',\n",
       " 'with',\n",
       " 'the',\n",
       " 'United',\n",
       " 'Nations',\n",
       " ',',\n",
       " 'the',\n",
       " 'promotion',\n",
       " 'of',\n",
       " 'universal',\n",
       " 'respect',\n",
       " 'for',\n",
       " 'and',\n",
       " 'observance',\n",
       " 'of',\n",
       " 'human',\n",
       " 'right',\n",
       " 'and',\n",
       " 'fundamental',\n",
       " 'freedom',\n",
       " ',',\n",
       " 'Whereas',\n",
       " 'a',\n",
       " 'common',\n",
       " 'understanding',\n",
       " 'of',\n",
       " 'these',\n",
       " 'right',\n",
       " 'and',\n",
       " 'freedom',\n",
       " 'is',\n",
       " 'of',\n",
       " 'the',\n",
       " 'greatest',\n",
       " 'importance',\n",
       " 'for',\n",
       " 'the',\n",
       " 'full',\n",
       " 'realization',\n",
       " 'of',\n",
       " 'this',\n",
       " 'pledge',\n",
       " ',',\n",
       " 'Now',\n",
       " ',',\n",
       " 'therefore',\n",
       " ',',\n",
       " 'The',\n",
       " 'General',\n",
       " 'Assembly',\n",
       " ',',\n",
       " 'Proclaims',\n",
       " 'this',\n",
       " 'Universal',\n",
       " 'Declaration',\n",
       " 'of',\n",
       " 'Human',\n",
       " 'Rights',\n",
       " 'a',\n",
       " 'a',\n",
       " 'common',\n",
       " 'standard',\n",
       " 'of',\n",
       " 'achievement',\n",
       " 'for',\n",
       " 'all',\n",
       " 'people',\n",
       " 'and',\n",
       " 'all',\n",
       " 'nation',\n",
       " ',',\n",
       " 'to',\n",
       " 'the',\n",
       " 'end',\n",
       " 'that',\n",
       " 'every',\n",
       " 'individual',\n",
       " 'and',\n",
       " 'every',\n",
       " 'organ',\n",
       " 'of',\n",
       " 'society',\n",
       " ',',\n",
       " 'keeping',\n",
       " 'this',\n",
       " 'Declaration',\n",
       " 'constantly',\n",
       " 'in',\n",
       " 'mind',\n",
       " ',',\n",
       " 'shall',\n",
       " 'strive',\n",
       " 'by',\n",
       " 'teaching',\n",
       " 'and',\n",
       " 'education',\n",
       " 'to',\n",
       " 'promote',\n",
       " 'respect',\n",
       " 'for',\n",
       " 'these',\n",
       " 'right',\n",
       " 'and',\n",
       " 'freedom',\n",
       " 'and',\n",
       " 'by',\n",
       " 'progressive',\n",
       " 'measure',\n",
       " ',',\n",
       " 'national',\n",
       " 'and',\n",
       " 'international',\n",
       " ',',\n",
       " 'to',\n",
       " 'secure',\n",
       " 'their',\n",
       " 'universal',\n",
       " 'and',\n",
       " 'effective',\n",
       " 'recognition',\n",
       " 'and',\n",
       " 'observance',\n",
       " ',',\n",
       " 'both',\n",
       " 'among',\n",
       " 'the',\n",
       " 'people',\n",
       " 'of',\n",
       " 'Member',\n",
       " 'States',\n",
       " 'themselves',\n",
       " 'and',\n",
       " 'among',\n",
       " 'the',\n",
       " 'people',\n",
       " 'of',\n",
       " 'territory',\n",
       " 'under',\n",
       " 'their',\n",
       " 'jurisdiction',\n",
       " '.',\n",
       " 'Article',\n",
       " '1',\n",
       " 'All',\n",
       " 'human',\n",
       " 'being',\n",
       " 'are',\n",
       " 'born',\n",
       " 'free',\n",
       " 'and',\n",
       " 'equal',\n",
       " 'in',\n",
       " 'dignity',\n",
       " 'and',\n",
       " 'right',\n",
       " '.',\n",
       " 'They',\n",
       " 'are',\n",
       " 'endowed',\n",
       " 'with',\n",
       " 'reason',\n",
       " 'and',\n",
       " 'conscience',\n",
       " 'and',\n",
       " 'should',\n",
       " 'act',\n",
       " 'towards',\n",
       " 'one',\n",
       " 'another',\n",
       " 'in',\n",
       " 'a',\n",
       " 'spirit',\n",
       " 'of',\n",
       " 'brotherhood',\n",
       " '.',\n",
       " 'Article',\n",
       " '2',\n",
       " 'Everyone',\n",
       " 'is',\n",
       " 'entitled',\n",
       " 'to',\n",
       " 'all',\n",
       " 'the',\n",
       " 'right',\n",
       " 'and',\n",
       " 'freedom',\n",
       " 'set',\n",
       " 'forth',\n",
       " 'in',\n",
       " 'this',\n",
       " 'Declaration',\n",
       " ',',\n",
       " 'without',\n",
       " 'distinction',\n",
       " 'of',\n",
       " 'any',\n",
       " 'kind',\n",
       " ',',\n",
       " 'such',\n",
       " 'a',\n",
       " 'race',\n",
       " ',',\n",
       " 'colour',\n",
       " ',',\n",
       " 'sex',\n",
       " ',',\n",
       " 'language',\n",
       " ',',\n",
       " 'religion',\n",
       " ',',\n",
       " 'political',\n",
       " 'or',\n",
       " 'other',\n",
       " 'opinion',\n",
       " ',',\n",
       " 'national',\n",
       " 'or',\n",
       " 'social',\n",
       " 'origin',\n",
       " ',',\n",
       " 'property',\n",
       " ',',\n",
       " 'birth',\n",
       " 'or',\n",
       " 'other',\n",
       " 'status',\n",
       " '.',\n",
       " 'Furthermore',\n",
       " ',',\n",
       " 'no',\n",
       " 'distinction',\n",
       " 'shall',\n",
       " 'be',\n",
       " 'made',\n",
       " 'on',\n",
       " 'the',\n",
       " 'basis',\n",
       " 'of',\n",
       " 'the',\n",
       " 'political',\n",
       " ',',\n",
       " 'jurisdictional',\n",
       " 'or',\n",
       " 'international',\n",
       " 'status',\n",
       " 'of',\n",
       " 'the',\n",
       " 'country',\n",
       " 'or',\n",
       " 'territory',\n",
       " 'to',\n",
       " 'which',\n",
       " 'a',\n",
       " 'person',\n",
       " 'belongs',\n",
       " ',',\n",
       " 'whether',\n",
       " 'it',\n",
       " 'be',\n",
       " 'independent',\n",
       " ',',\n",
       " 'trust',\n",
       " ',',\n",
       " 'non',\n",
       " '-',\n",
       " 'self',\n",
       " '-',\n",
       " 'governing',\n",
       " 'or',\n",
       " 'under',\n",
       " 'any',\n",
       " 'other',\n",
       " 'limitation',\n",
       " 'of',\n",
       " 'sovereignty',\n",
       " '.',\n",
       " 'Article',\n",
       " '3',\n",
       " 'Everyone',\n",
       " 'ha',\n",
       " 'the',\n",
       " 'right',\n",
       " 'to',\n",
       " 'life',\n",
       " ',',\n",
       " 'liberty',\n",
       " 'and',\n",
       " 'security',\n",
       " 'of',\n",
       " 'person',\n",
       " '.',\n",
       " 'Article',\n",
       " '4',\n",
       " 'No',\n",
       " 'one',\n",
       " 'shall',\n",
       " 'be',\n",
       " 'held',\n",
       " 'in',\n",
       " 'slavery',\n",
       " 'or',\n",
       " 'servitude',\n",
       " ';',\n",
       " 'slavery',\n",
       " 'and',\n",
       " 'the',\n",
       " 'slave',\n",
       " 'trade',\n",
       " 'shall',\n",
       " 'be',\n",
       " 'prohibited',\n",
       " 'in',\n",
       " 'all',\n",
       " 'their',\n",
       " 'form',\n",
       " '.',\n",
       " 'Article',\n",
       " '5',\n",
       " 'No',\n",
       " 'one',\n",
       " 'shall',\n",
       " 'be',\n",
       " 'subjected',\n",
       " 'to',\n",
       " 'torture',\n",
       " 'or',\n",
       " 'to',\n",
       " 'cruel',\n",
       " ',',\n",
       " 'inhuman',\n",
       " 'or',\n",
       " 'degrading',\n",
       " 'treatment',\n",
       " 'or',\n",
       " 'punishment',\n",
       " '.',\n",
       " 'Article',\n",
       " '6',\n",
       " 'Everyone',\n",
       " 'ha',\n",
       " 'the',\n",
       " 'right',\n",
       " 'to',\n",
       " 'recognition',\n",
       " 'everywhere',\n",
       " 'a',\n",
       " 'a',\n",
       " 'person',\n",
       " 'before',\n",
       " 'the',\n",
       " 'law',\n",
       " '.',\n",
       " 'Article',\n",
       " '7',\n",
       " 'All',\n",
       " 'are',\n",
       " 'equal',\n",
       " 'before',\n",
       " 'the',\n",
       " 'law',\n",
       " 'and',\n",
       " 'are',\n",
       " 'entitled',\n",
       " 'without',\n",
       " 'any',\n",
       " 'discrimination',\n",
       " 'to',\n",
       " 'equal',\n",
       " 'protection',\n",
       " 'of',\n",
       " 'the',\n",
       " 'law',\n",
       " '.',\n",
       " 'All',\n",
       " 'are',\n",
       " 'entitled',\n",
       " 'to',\n",
       " 'equal',\n",
       " 'protection',\n",
       " 'against',\n",
       " 'any',\n",
       " 'discrimination',\n",
       " 'in',\n",
       " 'violation',\n",
       " 'of',\n",
       " 'this',\n",
       " 'Declaration',\n",
       " 'and',\n",
       " 'against',\n",
       " 'any',\n",
       " 'incitement',\n",
       " 'to',\n",
       " 'such',\n",
       " 'discrimination',\n",
       " '.',\n",
       " 'Article',\n",
       " '8',\n",
       " 'Everyone',\n",
       " 'ha',\n",
       " 'the',\n",
       " 'right',\n",
       " 'to',\n",
       " 'an',\n",
       " 'effective',\n",
       " 'remedy',\n",
       " 'by',\n",
       " 'the',\n",
       " 'competent',\n",
       " 'national',\n",
       " 'tribunal',\n",
       " 'for',\n",
       " 'act',\n",
       " 'violating',\n",
       " 'the',\n",
       " 'fundamental',\n",
       " 'right',\n",
       " 'granted',\n",
       " 'him',\n",
       " 'by',\n",
       " 'the',\n",
       " 'constitution',\n",
       " 'or',\n",
       " 'by',\n",
       " 'law',\n",
       " '.',\n",
       " 'Article',\n",
       " '9',\n",
       " 'No',\n",
       " 'one',\n",
       " 'shall',\n",
       " 'be',\n",
       " 'subjected',\n",
       " 'to',\n",
       " 'arbitrary',\n",
       " 'arrest',\n",
       " ',',\n",
       " 'detention',\n",
       " 'or',\n",
       " 'exile',\n",
       " '.',\n",
       " 'Article',\n",
       " '10',\n",
       " 'Everyone',\n",
       " 'is',\n",
       " 'entitled',\n",
       " 'in',\n",
       " 'full',\n",
       " 'equality',\n",
       " 'to',\n",
       " 'a',\n",
       " 'fair',\n",
       " 'and',\n",
       " 'public',\n",
       " 'hearing',\n",
       " 'by',\n",
       " 'an',\n",
       " 'independent',\n",
       " 'and',\n",
       " 'impartial',\n",
       " 'tribunal',\n",
       " ',',\n",
       " 'in',\n",
       " 'the',\n",
       " 'determination',\n",
       " 'of',\n",
       " 'his',\n",
       " 'right',\n",
       " 'and',\n",
       " 'obligation',\n",
       " 'and',\n",
       " 'of',\n",
       " 'any',\n",
       " 'criminal',\n",
       " 'charge',\n",
       " 'against',\n",
       " 'him',\n",
       " '.',\n",
       " 'Article',\n",
       " '11',\n",
       " 'Everyone',\n",
       " 'charged',\n",
       " 'with',\n",
       " 'a',\n",
       " 'penal',\n",
       " 'offence',\n",
       " 'ha',\n",
       " 'the',\n",
       " 'right',\n",
       " 'to',\n",
       " 'be',\n",
       " 'presumed',\n",
       " 'innocent',\n",
       " 'until',\n",
       " 'proved',\n",
       " 'guilty',\n",
       " 'according',\n",
       " 'to',\n",
       " 'law',\n",
       " 'in',\n",
       " 'a',\n",
       " 'public',\n",
       " 'trial',\n",
       " 'at',\n",
       " 'which',\n",
       " 'he',\n",
       " 'ha',\n",
       " 'had',\n",
       " 'all',\n",
       " 'the',\n",
       " 'guarantee',\n",
       " 'necessary',\n",
       " 'for',\n",
       " 'his',\n",
       " 'defence',\n",
       " '.',\n",
       " 'No',\n",
       " 'one',\n",
       " 'shall',\n",
       " 'be',\n",
       " 'held',\n",
       " 'guilty',\n",
       " 'of',\n",
       " 'any',\n",
       " 'penal',\n",
       " 'offence',\n",
       " 'on',\n",
       " 'account',\n",
       " 'of',\n",
       " 'any',\n",
       " 'act',\n",
       " 'or',\n",
       " 'omission',\n",
       " 'which',\n",
       " 'did',\n",
       " 'not',\n",
       " 'constitute',\n",
       " 'a',\n",
       " 'penal',\n",
       " 'offence',\n",
       " ',',\n",
       " 'under',\n",
       " 'national',\n",
       " 'or',\n",
       " 'international',\n",
       " 'law',\n",
       " ',',\n",
       " 'at',\n",
       " 'the',\n",
       " 'time',\n",
       " 'when',\n",
       " 'it',\n",
       " 'wa',\n",
       " 'committed',\n",
       " '.',\n",
       " 'Nor',\n",
       " 'shall',\n",
       " 'a',\n",
       " 'heavier',\n",
       " 'penalty',\n",
       " 'be',\n",
       " 'imposed',\n",
       " 'than',\n",
       " 'the',\n",
       " 'one',\n",
       " 'that',\n",
       " 'wa',\n",
       " 'applicable',\n",
       " 'at',\n",
       " 'the',\n",
       " 'time',\n",
       " 'the',\n",
       " 'penal',\n",
       " 'offence',\n",
       " 'wa',\n",
       " 'committed',\n",
       " '.',\n",
       " 'Article',\n",
       " '12',\n",
       " 'No',\n",
       " 'one',\n",
       " 'shall',\n",
       " 'be',\n",
       " 'subjected',\n",
       " 'to',\n",
       " 'arbitrary',\n",
       " 'interference',\n",
       " 'with',\n",
       " 'his',\n",
       " 'privacy',\n",
       " ',',\n",
       " 'family',\n",
       " ',',\n",
       " 'home',\n",
       " 'or',\n",
       " 'correspondence',\n",
       " ',',\n",
       " 'nor',\n",
       " 'to',\n",
       " 'attack',\n",
       " 'upon',\n",
       " 'his',\n",
       " 'honour',\n",
       " 'and',\n",
       " 'reputation',\n",
       " '.',\n",
       " 'Everyone',\n",
       " 'ha',\n",
       " 'the',\n",
       " 'right',\n",
       " 'to',\n",
       " 'the',\n",
       " 'protection',\n",
       " 'of',\n",
       " 'the',\n",
       " 'law',\n",
       " 'against',\n",
       " 'such',\n",
       " 'interference',\n",
       " 'or',\n",
       " 'attack',\n",
       " '.',\n",
       " 'Article',\n",
       " '13',\n",
       " 'Everyone',\n",
       " 'ha',\n",
       " 'the',\n",
       " 'right',\n",
       " 'to',\n",
       " 'freedom',\n",
       " 'of',\n",
       " 'movement',\n",
       " 'and',\n",
       " 'residence',\n",
       " 'within',\n",
       " 'the',\n",
       " 'border',\n",
       " 'of',\n",
       " 'each',\n",
       " 'State',\n",
       " '.',\n",
       " 'Everyone',\n",
       " 'ha',\n",
       " 'the',\n",
       " 'right',\n",
       " 'to',\n",
       " 'leave',\n",
       " 'any',\n",
       " 'country',\n",
       " ',',\n",
       " 'including',\n",
       " 'his',\n",
       " 'own',\n",
       " ',',\n",
       " 'and',\n",
       " 'to',\n",
       " 'return',\n",
       " 'to',\n",
       " 'his',\n",
       " 'country',\n",
       " '.',\n",
       " 'Article',\n",
       " '14',\n",
       " 'Everyone',\n",
       " 'ha',\n",
       " 'the',\n",
       " 'right',\n",
       " 'to',\n",
       " 'seek',\n",
       " 'and',\n",
       " 'to',\n",
       " 'enjoy',\n",
       " 'in',\n",
       " 'other',\n",
       " 'country',\n",
       " 'asylum',\n",
       " 'from',\n",
       " 'persecution',\n",
       " '.',\n",
       " 'This',\n",
       " 'right',\n",
       " 'may',\n",
       " 'not',\n",
       " 'be',\n",
       " 'invoked',\n",
       " 'in',\n",
       " 'the',\n",
       " 'case',\n",
       " 'of',\n",
       " 'prosecution',\n",
       " 'genuinely',\n",
       " 'arising',\n",
       " 'from',\n",
       " 'non',\n",
       " '-',\n",
       " 'political',\n",
       " 'crime',\n",
       " 'or',\n",
       " 'from',\n",
       " 'act',\n",
       " 'contrary',\n",
       " 'to',\n",
       " 'the',\n",
       " 'purpose',\n",
       " 'and',\n",
       " 'principle',\n",
       " 'of',\n",
       " 'the',\n",
       " 'United',\n",
       " 'Nations',\n",
       " '.',\n",
       " 'Article',\n",
       " '15',\n",
       " 'Everyone',\n",
       " 'ha',\n",
       " 'the',\n",
       " 'right',\n",
       " 'to',\n",
       " 'a',\n",
       " 'nationality',\n",
       " '.',\n",
       " 'No',\n",
       " 'one',\n",
       " 'shall',\n",
       " 'be',\n",
       " 'arbitrarily',\n",
       " 'deprived',\n",
       " 'of',\n",
       " 'his',\n",
       " 'nationality',\n",
       " 'nor',\n",
       " 'denied',\n",
       " 'the',\n",
       " 'right',\n",
       " 'to',\n",
       " 'change',\n",
       " 'his',\n",
       " 'nationality',\n",
       " '.',\n",
       " 'Article',\n",
       " '16',\n",
       " 'Men',\n",
       " 'and',\n",
       " 'woman',\n",
       " 'of',\n",
       " 'full',\n",
       " 'age',\n",
       " ',',\n",
       " 'without',\n",
       " 'any',\n",
       " 'limitation',\n",
       " 'due',\n",
       " 'to',\n",
       " 'race',\n",
       " ',',\n",
       " 'nationality',\n",
       " 'or',\n",
       " 'religion',\n",
       " ',',\n",
       " 'have',\n",
       " 'the',\n",
       " 'right',\n",
       " 'to',\n",
       " 'marry',\n",
       " 'and',\n",
       " 'to',\n",
       " 'found',\n",
       " 'a',\n",
       " 'family',\n",
       " '.',\n",
       " 'They',\n",
       " 'are',\n",
       " 'entitled',\n",
       " 'to',\n",
       " 'equal',\n",
       " 'right',\n",
       " 'a',\n",
       " 'to',\n",
       " 'marriage',\n",
       " ',',\n",
       " 'during',\n",
       " 'marriage',\n",
       " 'and',\n",
       " 'at',\n",
       " 'it',\n",
       " 'dissolution',\n",
       " '.',\n",
       " 'Marriage',\n",
       " 'shall',\n",
       " 'be',\n",
       " ...]"
      ]
     },
     "execution_count": 48,
     "metadata": {},
     "output_type": "execute_result"
    }
   ],
   "source": [
    "[wnlemma.lemmatize(t) for t in udhr]"
   ]
  },
  {
   "cell_type": "markdown",
   "id": "8515bbda",
   "metadata": {},
   "source": [
    "## Tokenization\n",
    "\n",
    "- Recall splitting a sentence into words / tokens\n",
    "- NLTK has an in-built tokenizer"
   ]
  },
  {
   "cell_type": "code",
   "execution_count": 49,
   "id": "6e7b1bf0",
   "metadata": {},
   "outputs": [],
   "source": [
    "text11 = \"Children shouldn't drink a sugary drink before bed.\""
   ]
  },
  {
   "cell_type": "code",
   "execution_count": 50,
   "id": "f3abd25d",
   "metadata": {},
   "outputs": [
    {
     "data": {
      "text/plain": [
       "['Children', \"shouldn't\", 'drink', 'a', 'sugary', 'drink', 'before', 'bed.']"
      ]
     },
     "execution_count": 50,
     "metadata": {},
     "output_type": "execute_result"
    }
   ],
   "source": [
    "text11.split(' ')"
   ]
  },
  {
   "cell_type": "code",
   "execution_count": 51,
   "id": "5b10d736",
   "metadata": {},
   "outputs": [
    {
     "data": {
      "text/plain": [
       "['Children',\n",
       " 'should',\n",
       " \"n't\",\n",
       " 'drink',\n",
       " 'a',\n",
       " 'sugary',\n",
       " 'drink',\n",
       " 'before',\n",
       " 'bed',\n",
       " '.']"
      ]
     },
     "execution_count": 51,
     "metadata": {},
     "output_type": "execute_result"
    }
   ],
   "source": [
    "nltk.word_tokenize(text11)"
   ]
  },
  {
   "cell_type": "markdown",
   "id": "f9af13f6",
   "metadata": {},
   "source": [
    "## Sentence Splitting\n",
    "\n",
    "NLTK has an in-built sentence splitter too!"
   ]
  },
  {
   "cell_type": "code",
   "execution_count": 53,
   "id": "1e27c766",
   "metadata": {},
   "outputs": [],
   "source": [
    "text12 = \"This is the first sentence. A gallon of milk in the U.S. costs $2.99. Is this the third sentence? Yes, it is!\""
   ]
  },
  {
   "cell_type": "code",
   "execution_count": 54,
   "id": "dcbea2d8",
   "metadata": {},
   "outputs": [],
   "source": [
    "sentences = nltk.sent_tokenize(text12)"
   ]
  },
  {
   "cell_type": "code",
   "execution_count": 55,
   "id": "bc3b67b1",
   "metadata": {},
   "outputs": [
    {
     "data": {
      "text/plain": [
       "4"
      ]
     },
     "execution_count": 55,
     "metadata": {},
     "output_type": "execute_result"
    }
   ],
   "source": [
    "len(sentences)"
   ]
  },
  {
   "cell_type": "code",
   "execution_count": 56,
   "id": "c761f68e",
   "metadata": {},
   "outputs": [
    {
     "data": {
      "text/plain": [
       "['This is the first sentence.',\n",
       " 'A gallon of milk in the U.S. costs $2.99.',\n",
       " 'Is this the third sentence?',\n",
       " 'Yes, it is!']"
      ]
     },
     "execution_count": 56,
     "metadata": {},
     "output_type": "execute_result"
    }
   ],
   "source": [
    "sentences"
   ]
  },
  {
   "attachments": {
    "pos.png": {
     "image/png": "[encoded data removed]"
    }
   },
   "cell_type": "markdown",
   "id": "20500ff2",
   "metadata": {},
   "source": [
    "## Part-of-speech (POS) Tagging\n",
    "![pos.png](attachment:pos.png)"
   ]
  },
  {
   "cell_type": "code",
   "execution_count": 57,
   "id": "4016fbf6",
   "metadata": {},
   "outputs": [
    {
     "name": "stdout",
     "output_type": "stream",
     "text": [
      "MD: modal auxiliary\n",
      "    can cannot could couldn't dare may might must need ought shall should\n",
      "    shouldn't will would\n"
     ]
    }
   ],
   "source": [
    "nltk.help.upenn_tagset('MD')"
   ]
  },
  {
   "cell_type": "code",
   "execution_count": 58,
   "id": "6eecec80",
   "metadata": {},
   "outputs": [
    {
     "name": "stdout",
     "output_type": "stream",
     "text": [
      "CC: conjunction, coordinating\n",
      "    & 'n and both but either et for less minus neither nor or plus so\n",
      "    therefore times v. versus vs. whether yet\n"
     ]
    }
   ],
   "source": [
    "nltk.help.upenn_tagset('CC')"
   ]
  },
  {
   "cell_type": "code",
   "execution_count": 60,
   "id": "4e786451",
   "metadata": {},
   "outputs": [],
   "source": [
    "text11 = \"Children shouldn't drink a sugary drink\""
   ]
  },
  {
   "cell_type": "code",
   "execution_count": 62,
   "id": "c800ffe7",
   "metadata": {},
   "outputs": [
    {
     "data": {
      "text/plain": [
       "['Children', 'should', \"n't\", 'drink', 'a', 'sugary', 'drink']"
      ]
     },
     "execution_count": 62,
     "metadata": {},
     "output_type": "execute_result"
    }
   ],
   "source": [
    "text12 = nltk.word_tokenize(text11)\n",
    "text12"
   ]
  },
  {
   "cell_type": "code",
   "execution_count": 63,
   "id": "ed9f71d3",
   "metadata": {},
   "outputs": [
    {
     "data": {
      "text/plain": [
       "[('Children', 'NNP'),\n",
       " ('should', 'MD'),\n",
       " (\"n't\", 'RB'),\n",
       " ('drink', 'VB'),\n",
       " ('a', 'DT'),\n",
       " ('sugary', 'JJ'),\n",
       " ('drink', 'NN')]"
      ]
     },
     "execution_count": 63,
     "metadata": {},
     "output_type": "execute_result"
    }
   ],
   "source": [
    "nltk.pos_tag(text12)"
   ]
  },
  {
   "cell_type": "markdown",
   "id": "965412f0",
   "metadata": {},
   "source": [
    "# Module 3:Text Classification"
   ]
  },
  {
   "cell_type": "code",
   "execution_count": null,
   "id": "d12e3608",
   "metadata": {},
   "outputs": [],
   "source": []
  },
  {
   "cell_type": "code",
   "execution_count": null,
   "id": "2274208c",
   "metadata": {},
   "outputs": [],
   "source": []
  },
  {
   "cell_type": "markdown",
   "id": "1a6d919b",
   "metadata": {},
   "source": [
    "## Case Study - Sentiment Analysis"
   ]
  },
  {
   "cell_type": "code",
   "execution_count": 3,
   "id": "2f952c22",
   "metadata": {},
   "outputs": [
    {
     "data": {
      "text/html": [
       "<div>\n",
       "<style scoped>\n",
       "    .dataframe tbody tr th:only-of-type {\n",
       "        vertical-align: middle;\n",
       "    }\n",
       "\n",
       "    .dataframe tbody tr th {\n",
       "        vertical-align: top;\n",
       "    }\n",
       "\n",
       "    .dataframe thead th {\n",
       "        text-align: right;\n",
       "    }\n",
       "</style>\n",
       "<table border=\"1\" class=\"dataframe\">\n",
       "  <thead>\n",
       "    <tr style=\"text-align: right;\">\n",
       "      <th></th>\n",
       "      <th>Product Name</th>\n",
       "      <th>Brand Name</th>\n",
       "      <th>Price</th>\n",
       "      <th>Rating</th>\n",
       "      <th>Reviews</th>\n",
       "      <th>Review Votes</th>\n",
       "    </tr>\n",
       "  </thead>\n",
       "  <tbody>\n",
       "    <tr>\n",
       "      <th>0</th>\n",
       "      <td>\"CLEAR CLEAN ESN\" Sprint EPIC 4G Galaxy SPH-D7...</td>\n",
       "      <td>Samsung</td>\n",
       "      <td>199.99</td>\n",
       "      <td>5</td>\n",
       "      <td>I feel so LUCKY to have found this used (phone...</td>\n",
       "      <td>1.0</td>\n",
       "    </tr>\n",
       "    <tr>\n",
       "      <th>1</th>\n",
       "      <td>\"CLEAR CLEAN ESN\" Sprint EPIC 4G Galaxy SPH-D7...</td>\n",
       "      <td>Samsung</td>\n",
       "      <td>199.99</td>\n",
       "      <td>4</td>\n",
       "      <td>nice phone, nice up grade from my pantach revu...</td>\n",
       "      <td>0.0</td>\n",
       "    </tr>\n",
       "    <tr>\n",
       "      <th>2</th>\n",
       "      <td>\"CLEAR CLEAN ESN\" Sprint EPIC 4G Galaxy SPH-D7...</td>\n",
       "      <td>Samsung</td>\n",
       "      <td>199.99</td>\n",
       "      <td>5</td>\n",
       "      <td>Very pleased</td>\n",
       "      <td>0.0</td>\n",
       "    </tr>\n",
       "    <tr>\n",
       "      <th>3</th>\n",
       "      <td>\"CLEAR CLEAN ESN\" Sprint EPIC 4G Galaxy SPH-D7...</td>\n",
       "      <td>Samsung</td>\n",
       "      <td>199.99</td>\n",
       "      <td>4</td>\n",
       "      <td>It works good but it goes slow sometimes but i...</td>\n",
       "      <td>0.0</td>\n",
       "    </tr>\n",
       "    <tr>\n",
       "      <th>4</th>\n",
       "      <td>\"CLEAR CLEAN ESN\" Sprint EPIC 4G Galaxy SPH-D7...</td>\n",
       "      <td>Samsung</td>\n",
       "      <td>199.99</td>\n",
       "      <td>4</td>\n",
       "      <td>Great phone to replace my lost phone. The only...</td>\n",
       "      <td>0.0</td>\n",
       "    </tr>\n",
       "  </tbody>\n",
       "</table>\n",
       "</div>"
      ],
      "text/plain": [
       "                                        Product Name Brand Name   Price  \\\n",
       "0  \"CLEAR CLEAN ESN\" Sprint EPIC 4G Galaxy SPH-D7...    Samsung  199.99   \n",
       "1  \"CLEAR CLEAN ESN\" Sprint EPIC 4G Galaxy SPH-D7...    Samsung  199.99   \n",
       "2  \"CLEAR CLEAN ESN\" Sprint EPIC 4G Galaxy SPH-D7...    Samsung  199.99   \n",
       "3  \"CLEAR CLEAN ESN\" Sprint EPIC 4G Galaxy SPH-D7...    Samsung  199.99   \n",
       "4  \"CLEAR CLEAN ESN\" Sprint EPIC 4G Galaxy SPH-D7...    Samsung  199.99   \n",
       "\n",
       "   Rating                                            Reviews  Review Votes  \n",
       "0       5  I feel so LUCKY to have found this used (phone...           1.0  \n",
       "1       4  nice phone, nice up grade from my pantach revu...           0.0  \n",
       "2       5                                       Very pleased           0.0  \n",
       "3       4  It works good but it goes slow sometimes but i...           0.0  \n",
       "4       4  Great phone to replace my lost phone. The only...           0.0  "
      ]
     },
     "execution_count": 3,
     "metadata": {},
     "output_type": "execute_result"
    }
   ],
   "source": [
    "import pandas as pd\n",
    "import numpy as np\n",
    "\n",
    "df = pd.read_csv('lab-files/Amazon_Unlocked_Mobile.csv')\n",
    "df.head()"
   ]
  },
  {
   "cell_type": "code",
   "execution_count": 4,
   "id": "e4c4c684",
   "metadata": {},
   "outputs": [],
   "source": [
    "df.dropna(inplace=True)\n",
    "df =df[df['Rating'] != 3]\n",
    "df['Positively Rated'] = np.where(df['Rating']>3,1,0)"
   ]
  },
  {
   "cell_type": "code",
   "execution_count": 5,
   "id": "2b5694fa",
   "metadata": {},
   "outputs": [
    {
     "data": {
      "text/html": [
       "<div>\n",
       "<style scoped>\n",
       "    .dataframe tbody tr th:only-of-type {\n",
       "        vertical-align: middle;\n",
       "    }\n",
       "\n",
       "    .dataframe tbody tr th {\n",
       "        vertical-align: top;\n",
       "    }\n",
       "\n",
       "    .dataframe thead th {\n",
       "        text-align: right;\n",
       "    }\n",
       "</style>\n",
       "<table border=\"1\" class=\"dataframe\">\n",
       "  <thead>\n",
       "    <tr style=\"text-align: right;\">\n",
       "      <th></th>\n",
       "      <th>Product Name</th>\n",
       "      <th>Brand Name</th>\n",
       "      <th>Price</th>\n",
       "      <th>Rating</th>\n",
       "      <th>Reviews</th>\n",
       "      <th>Review Votes</th>\n",
       "      <th>Positively Rated</th>\n",
       "    </tr>\n",
       "  </thead>\n",
       "  <tbody>\n",
       "    <tr>\n",
       "      <th>0</th>\n",
       "      <td>\"CLEAR CLEAN ESN\" Sprint EPIC 4G Galaxy SPH-D7...</td>\n",
       "      <td>Samsung</td>\n",
       "      <td>199.99</td>\n",
       "      <td>5</td>\n",
       "      <td>I feel so LUCKY to have found this used (phone...</td>\n",
       "      <td>1.0</td>\n",
       "      <td>1</td>\n",
       "    </tr>\n",
       "    <tr>\n",
       "      <th>1</th>\n",
       "      <td>\"CLEAR CLEAN ESN\" Sprint EPIC 4G Galaxy SPH-D7...</td>\n",
       "      <td>Samsung</td>\n",
       "      <td>199.99</td>\n",
       "      <td>4</td>\n",
       "      <td>nice phone, nice up grade from my pantach revu...</td>\n",
       "      <td>0.0</td>\n",
       "      <td>1</td>\n",
       "    </tr>\n",
       "    <tr>\n",
       "      <th>2</th>\n",
       "      <td>\"CLEAR CLEAN ESN\" Sprint EPIC 4G Galaxy SPH-D7...</td>\n",
       "      <td>Samsung</td>\n",
       "      <td>199.99</td>\n",
       "      <td>5</td>\n",
       "      <td>Very pleased</td>\n",
       "      <td>0.0</td>\n",
       "      <td>1</td>\n",
       "    </tr>\n",
       "    <tr>\n",
       "      <th>3</th>\n",
       "      <td>\"CLEAR CLEAN ESN\" Sprint EPIC 4G Galaxy SPH-D7...</td>\n",
       "      <td>Samsung</td>\n",
       "      <td>199.99</td>\n",
       "      <td>4</td>\n",
       "      <td>It works good but it goes slow sometimes but i...</td>\n",
       "      <td>0.0</td>\n",
       "      <td>1</td>\n",
       "    </tr>\n",
       "    <tr>\n",
       "      <th>4</th>\n",
       "      <td>\"CLEAR CLEAN ESN\" Sprint EPIC 4G Galaxy SPH-D7...</td>\n",
       "      <td>Samsung</td>\n",
       "      <td>199.99</td>\n",
       "      <td>4</td>\n",
       "      <td>Great phone to replace my lost phone. The only...</td>\n",
       "      <td>0.0</td>\n",
       "      <td>1</td>\n",
       "    </tr>\n",
       "    <tr>\n",
       "      <th>5</th>\n",
       "      <td>\"CLEAR CLEAN ESN\" Sprint EPIC 4G Galaxy SPH-D7...</td>\n",
       "      <td>Samsung</td>\n",
       "      <td>199.99</td>\n",
       "      <td>1</td>\n",
       "      <td>I already had a phone with problems... I know ...</td>\n",
       "      <td>1.0</td>\n",
       "      <td>0</td>\n",
       "    </tr>\n",
       "    <tr>\n",
       "      <th>6</th>\n",
       "      <td>\"CLEAR CLEAN ESN\" Sprint EPIC 4G Galaxy SPH-D7...</td>\n",
       "      <td>Samsung</td>\n",
       "      <td>199.99</td>\n",
       "      <td>2</td>\n",
       "      <td>The charging port was loose. I got that solder...</td>\n",
       "      <td>0.0</td>\n",
       "      <td>0</td>\n",
       "    </tr>\n",
       "    <tr>\n",
       "      <th>7</th>\n",
       "      <td>\"CLEAR CLEAN ESN\" Sprint EPIC 4G Galaxy SPH-D7...</td>\n",
       "      <td>Samsung</td>\n",
       "      <td>199.99</td>\n",
       "      <td>2</td>\n",
       "      <td>Phone looks good but wouldn't stay charged, ha...</td>\n",
       "      <td>0.0</td>\n",
       "      <td>0</td>\n",
       "    </tr>\n",
       "    <tr>\n",
       "      <th>8</th>\n",
       "      <td>\"CLEAR CLEAN ESN\" Sprint EPIC 4G Galaxy SPH-D7...</td>\n",
       "      <td>Samsung</td>\n",
       "      <td>199.99</td>\n",
       "      <td>5</td>\n",
       "      <td>I originally was using the Samsung S2 Galaxy f...</td>\n",
       "      <td>0.0</td>\n",
       "      <td>1</td>\n",
       "    </tr>\n",
       "    <tr>\n",
       "      <th>11</th>\n",
       "      <td>\"CLEAR CLEAN ESN\" Sprint EPIC 4G Galaxy SPH-D7...</td>\n",
       "      <td>Samsung</td>\n",
       "      <td>199.99</td>\n",
       "      <td>5</td>\n",
       "      <td>This is a great product it came after two days...</td>\n",
       "      <td>0.0</td>\n",
       "      <td>1</td>\n",
       "    </tr>\n",
       "  </tbody>\n",
       "</table>\n",
       "</div>"
      ],
      "text/plain": [
       "                                         Product Name Brand Name   Price  \\\n",
       "0   \"CLEAR CLEAN ESN\" Sprint EPIC 4G Galaxy SPH-D7...    Samsung  199.99   \n",
       "1   \"CLEAR CLEAN ESN\" Sprint EPIC 4G Galaxy SPH-D7...    Samsung  199.99   \n",
       "2   \"CLEAR CLEAN ESN\" Sprint EPIC 4G Galaxy SPH-D7...    Samsung  199.99   \n",
       "3   \"CLEAR CLEAN ESN\" Sprint EPIC 4G Galaxy SPH-D7...    Samsung  199.99   \n",
       "4   \"CLEAR CLEAN ESN\" Sprint EPIC 4G Galaxy SPH-D7...    Samsung  199.99   \n",
       "5   \"CLEAR CLEAN ESN\" Sprint EPIC 4G Galaxy SPH-D7...    Samsung  199.99   \n",
       "6   \"CLEAR CLEAN ESN\" Sprint EPIC 4G Galaxy SPH-D7...    Samsung  199.99   \n",
       "7   \"CLEAR CLEAN ESN\" Sprint EPIC 4G Galaxy SPH-D7...    Samsung  199.99   \n",
       "8   \"CLEAR CLEAN ESN\" Sprint EPIC 4G Galaxy SPH-D7...    Samsung  199.99   \n",
       "11  \"CLEAR CLEAN ESN\" Sprint EPIC 4G Galaxy SPH-D7...    Samsung  199.99   \n",
       "\n",
       "    Rating                                            Reviews  Review Votes  \\\n",
       "0        5  I feel so LUCKY to have found this used (phone...           1.0   \n",
       "1        4  nice phone, nice up grade from my pantach revu...           0.0   \n",
       "2        5                                       Very pleased           0.0   \n",
       "3        4  It works good but it goes slow sometimes but i...           0.0   \n",
       "4        4  Great phone to replace my lost phone. The only...           0.0   \n",
       "5        1  I already had a phone with problems... I know ...           1.0   \n",
       "6        2  The charging port was loose. I got that solder...           0.0   \n",
       "7        2  Phone looks good but wouldn't stay charged, ha...           0.0   \n",
       "8        5  I originally was using the Samsung S2 Galaxy f...           0.0   \n",
       "11       5  This is a great product it came after two days...           0.0   \n",
       "\n",
       "    Positively Rated  \n",
       "0                  1  \n",
       "1                  1  \n",
       "2                  1  \n",
       "3                  1  \n",
       "4                  1  \n",
       "5                  0  \n",
       "6                  0  \n",
       "7                  0  \n",
       "8                  1  \n",
       "11                 1  "
      ]
     },
     "execution_count": 5,
     "metadata": {},
     "output_type": "execute_result"
    }
   ],
   "source": [
    "df.head(10)"
   ]
  },
  {
   "cell_type": "code",
   "execution_count": 6,
   "id": "16a0fe55",
   "metadata": {},
   "outputs": [],
   "source": [
    "from sklearn.model_selection import train_test_split\n",
    "\n",
    "X_train, X_test, y_train, y_test = train_test_split(df['Reviews'],df['Positively Rated'], random_state=0)"
   ]
  },
  {
   "cell_type": "code",
   "execution_count": 7,
   "id": "4a012ac3",
   "metadata": {},
   "outputs": [
    {
     "name": "stdout",
     "output_type": "stream",
     "text": [
      "X_train first entry:\n",
      "\n",
      " I feel so LUCKY to have found this used (phone to us & not used hard at all), phone on line from someone who upgraded and sold this one. My Son liked his old one that finally fell apart after 2.5+ years and didn't want an upgrade!! Thank you Seller, we really appreciate it & your honesty re: said used phone.I recommend this seller very highly & would but from them again!!\n",
      "\n",
      "\n",
      "X_train shape (231207,)\n"
     ]
    }
   ],
   "source": [
    "print('X_train first entry:\\n\\n',X_train[0])\n",
    "print('\\n\\nX_train shape',X_train.shape)"
   ]
  },
  {
   "cell_type": "code",
   "execution_count": 8,
   "id": "3a5243eb",
   "metadata": {
    "scrolled": true
   },
   "outputs": [
    {
     "name": "stdout",
     "output_type": "stream",
     "text": [
      "y_train haed:\n",
      "\n",
      " 97039     0\n",
      "243783    1\n",
      "88792     0\n",
      "388802    1\n",
      "161607    1\n",
      "Name: Positively Rated, dtype: int32\n",
      "\n",
      "\n",
      "y_train shape (231207,)\n"
     ]
    }
   ],
   "source": [
    "print('y_train haed:\\n\\n',y_train.head())\n",
    "print('\\n\\ny_train shape',y_train.shape)"
   ]
  },
  {
   "cell_type": "markdown",
   "id": "7bfa0895",
   "metadata": {},
   "source": [
    "<br>\n",
    "\n",
    "`CountVectorizer()`\n",
    "\n",
    "Looking at X_train,\n",
    "we can see we have a series of over 231,000 reviews or documents.\n",
    "We'll need to convert these into a numeric representation that scikit-learn can use.\n",
    "The bag-of-words approach is simple and commonly used way to represent text for\n",
    "use in machine learning, which ignores structure and\n",
    "only counts how often each word occurs.\n",
    "CountVectorizer allows us to use the bag-of-words approach\n",
    "by converting a collection of text documents into a matrix of token counts. \n",
    "\n",
    "`.fit`\n",
    "\n",
    "Fitting the CountVectorizer tokenizes each document by finding all sequences of\n",
    "characters of at least two letters or numbers separated by word boundaries.\n",
    "Converts everything to lowercase and builds a vocabulary using these tokens. "
   ]
  },
  {
   "cell_type": "code",
   "execution_count": 9,
   "id": "4788e28d",
   "metadata": {},
   "outputs": [],
   "source": [
    "from sklearn.feature_extraction.text import CountVectorizer\n",
    "\n",
    "vect = CountVectorizer().fit(X_train)"
   ]
  },
  {
   "cell_type": "code",
   "execution_count": 10,
   "id": "67d377cb",
   "metadata": {},
   "outputs": [
    {
     "data": {
      "text/html": [
       "<style>#sk-container-id-1 {color: black;background-color: white;}#sk-container-id-1 pre{padding: 0;}#sk-container-id-1 div.sk-toggleable {background-color: white;}#sk-container-id-1 label.sk-toggleable__label {cursor: pointer;display: block;width: 100%;margin-bottom: 0;padding: 0.3em;box-sizing: border-box;text-align: center;}#sk-container-id-1 label.sk-toggleable__label-arrow:before {content: \"▸\";float: left;margin-right: 0.25em;color: #696969;}#sk-container-id-1 label.sk-toggleable__label-arrow:hover:before {color: black;}#sk-container-id-1 div.sk-estimator:hover label.sk-toggleable__label-arrow:before {color: black;}#sk-container-id-1 div.sk-toggleable__content {max-height: 0;max-width: 0;overflow: hidden;text-align: left;background-color: #f0f8ff;}#sk-container-id-1 div.sk-toggleable__content pre {margin: 0.2em;color: black;border-radius: 0.25em;background-color: #f0f8ff;}#sk-container-id-1 input.sk-toggleable__control:checked~div.sk-toggleable__content {max-height: 200px;max-width: 100%;overflow: auto;}#sk-container-id-1 input.sk-toggleable__control:checked~label.sk-toggleable__label-arrow:before {content: \"▾\";}#sk-container-id-1 div.sk-estimator input.sk-toggleable__control:checked~label.sk-toggleable__label {background-color: #d4ebff;}#sk-container-id-1 div.sk-label input.sk-toggleable__control:checked~label.sk-toggleable__label {background-color: #d4ebff;}#sk-container-id-1 input.sk-hidden--visually {border: 0;clip: rect(1px 1px 1px 1px);clip: rect(1px, 1px, 1px, 1px);height: 1px;margin: -1px;overflow: hidden;padding: 0;position: absolute;width: 1px;}#sk-container-id-1 div.sk-estimator {font-family: monospace;background-color: #f0f8ff;border: 1px dotted black;border-radius: 0.25em;box-sizing: border-box;margin-bottom: 0.5em;}#sk-container-id-1 div.sk-estimator:hover {background-color: #d4ebff;}#sk-container-id-1 div.sk-parallel-item::after {content: \"\";width: 100%;border-bottom: 1px solid gray;flex-grow: 1;}#sk-container-id-1 div.sk-label:hover label.sk-toggleable__label {background-color: #d4ebff;}#sk-container-id-1 div.sk-serial::before {content: \"\";position: absolute;border-left: 1px solid gray;box-sizing: border-box;top: 0;bottom: 0;left: 50%;z-index: 0;}#sk-container-id-1 div.sk-serial {display: flex;flex-direction: column;align-items: center;background-color: white;padding-right: 0.2em;padding-left: 0.2em;position: relative;}#sk-container-id-1 div.sk-item {position: relative;z-index: 1;}#sk-container-id-1 div.sk-parallel {display: flex;align-items: stretch;justify-content: center;background-color: white;position: relative;}#sk-container-id-1 div.sk-item::before, #sk-container-id-1 div.sk-parallel-item::before {content: \"\";position: absolute;border-left: 1px solid gray;box-sizing: border-box;top: 0;bottom: 0;left: 50%;z-index: -1;}#sk-container-id-1 div.sk-parallel-item {display: flex;flex-direction: column;z-index: 1;position: relative;background-color: white;}#sk-container-id-1 div.sk-parallel-item:first-child::after {align-self: flex-end;width: 50%;}#sk-container-id-1 div.sk-parallel-item:last-child::after {align-self: flex-start;width: 50%;}#sk-container-id-1 div.sk-parallel-item:only-child::after {width: 0;}#sk-container-id-1 div.sk-dashed-wrapped {border: 1px dashed gray;margin: 0 0.4em 0.5em 0.4em;box-sizing: border-box;padding-bottom: 0.4em;background-color: white;}#sk-container-id-1 div.sk-label label {font-family: monospace;font-weight: bold;display: inline-block;line-height: 1.2em;}#sk-container-id-1 div.sk-label-container {text-align: center;}#sk-container-id-1 div.sk-container {/* jupyter's `normalize.less` sets `[hidden] { display: none; }` but bootstrap.min.css set `[hidden] { display: none !important; }` so we also need the `!important` here to be able to override the default hidden behavior on the sphinx rendered scikit-learn.org. See: https://github.com/scikit-learn/scikit-learn/issues/21755 */display: inline-block !important;position: relative;}#sk-container-id-1 div.sk-text-repr-fallback {display: none;}</style><div id=\"sk-container-id-1\" class=\"sk-top-container\"><div class=\"sk-text-repr-fallback\"><pre>CountVectorizer()</pre><b>In a Jupyter environment, please rerun this cell to show the HTML representation or trust the notebook. <br />On GitHub, the HTML representation is unable to render, please try loading this page with nbviewer.org.</b></div><div class=\"sk-container\" hidden><div class=\"sk-item\"><div class=\"sk-estimator sk-toggleable\"><input class=\"sk-toggleable__control sk-hidden--visually\" id=\"sk-estimator-id-1\" type=\"checkbox\" checked><label for=\"sk-estimator-id-1\" class=\"sk-toggleable__label sk-toggleable__label-arrow\">CountVectorizer</label><div class=\"sk-toggleable__content\"><pre>CountVectorizer()</pre></div></div></div></div></div>"
      ],
      "text/plain": [
       "CountVectorizer()"
      ]
     },
     "execution_count": 10,
     "metadata": {},
     "output_type": "execute_result"
    }
   ],
   "source": [
    "vect"
   ]
  },
  {
   "cell_type": "code",
   "execution_count": 11,
   "id": "f26c2d27",
   "metadata": {
    "scrolled": true
   },
   "outputs": [
    {
     "data": {
      "text/plain": [
       "array(['00', '4less', 'adr6275', 'assignment', 'blazingly', 'cassettes',\n",
       "       'condishion', 'debi', 'dollarsshipping', 'esteem', 'flashy',\n",
       "       'gorila', 'human', 'irullu', 'like', 'microsaudered',\n",
       "       'nightmarish', 'p770', 'poori', 'quirky', 'responseive', 'send',\n",
       "       'sos', 'synch', 'trace', 'utiles', 'withstanding'], dtype=object)"
      ]
     },
     "execution_count": 11,
     "metadata": {},
     "output_type": "execute_result"
    }
   ],
   "source": [
    "feature_names = vect.get_feature_names_out()\n",
    "feature_names[::2000]"
   ]
  },
  {
   "cell_type": "code",
   "execution_count": 29,
   "id": "361c83a4",
   "metadata": {},
   "outputs": [
    {
     "data": {
      "text/plain": [
       "53216"
      ]
     },
     "execution_count": 29,
     "metadata": {},
     "output_type": "execute_result"
    }
   ],
   "source": [
    "len(feature_names)"
   ]
  },
  {
   "cell_type": "markdown",
   "id": "a6754c99",
   "metadata": {},
   "source": [
    "<br>\n",
    "\n",
    "`vect.transform(X_train)`\n",
    "\n",
    "Transform the documents in X_train to a document term matrix, giving us the bag-of-word representation of X_train.\n",
    "\n",
    "This representation is stored in a SciPy sparse matrix, where each row corresponds to a document and each column a word from our training vocabulary. \n",
    "\n",
    "The entries in this matrix are the number of times each word appears in each document. **<231207x53216>**"
   ]
  },
  {
   "cell_type": "code",
   "execution_count": 12,
   "id": "6a52eceb",
   "metadata": {},
   "outputs": [
    {
     "data": {
      "text/plain": [
       "<231207x53216 sparse matrix of type '<class 'numpy.int64'>'\n",
       "\twith 6117776 stored elements in Compressed Sparse Row format>"
      ]
     },
     "execution_count": 12,
     "metadata": {},
     "output_type": "execute_result"
    }
   ],
   "source": [
    "X_train_vectorized = vect.transform(X_train)\n",
    "X_train_vectorized"
   ]
  },
  {
   "cell_type": "code",
   "execution_count": 13,
   "id": "495b8bdf",
   "metadata": {},
   "outputs": [
    {
     "name": "stderr",
     "output_type": "stream",
     "text": [
      "C:\\Users\\Ahmed Elgamal\\AppData\\Roaming\\Python\\Python38\\site-packages\\sklearn\\linear_model\\_logistic.py:444: ConvergenceWarning: lbfgs failed to converge (status=1):\n",
      "STOP: TOTAL NO. of ITERATIONS REACHED LIMIT.\n",
      "\n",
      "Increase the number of iterations (max_iter) or scale the data as shown in:\n",
      "    https://scikit-learn.org/stable/modules/preprocessing.html\n",
      "Please also refer to the documentation for alternative solver options:\n",
      "    https://scikit-learn.org/stable/modules/linear_model.html#logistic-regression\n",
      "  n_iter_i = _check_optimize_result(\n"
     ]
    },
    {
     "name": "stdout",
     "output_type": "stream",
     "text": [
      "AUC:  0.9353104406316923\n"
     ]
    }
   ],
   "source": [
    "from sklearn.linear_model import LogisticRegression\n",
    "from sklearn.metrics import roc_auc_score\n",
    "\n",
    "model = LogisticRegression()\n",
    "model.fit(X_train_vectorized,y_train)\n",
    "\n",
    "predictions = model.predict(vect.transform(X_test))\n",
    "\n",
    "print('AUC: ',roc_auc_score(predictions,y_test))"
   ]
  },
  {
   "cell_type": "code",
   "execution_count": 14,
   "id": "560e595e",
   "metadata": {},
   "outputs": [
    {
     "name": "stdout",
     "output_type": "stream",
     "text": [
      "Smallest Coefs:\n",
      "['worst' 'garbage' 'junk' 'unusable' 'false' 'worthless' 'useless'\n",
      " 'crashing' 'disappointing' 'awful']\n",
      "\n",
      "Largest Coefs:\n",
      "['excelent' 'excelente' 'exelente' 'loving' 'loves' 'perfecto' 'excellent'\n",
      " 'complaints' 'awesome' 'buen']\n",
      "\n"
     ]
    }
   ],
   "source": [
    "sorted_coef_index = model.coef_[0].argsort()\n",
    "print('Smallest Coefs:\\n{}\\n'.format(feature_names[sorted_coef_index[:10]]))\n",
    "print('Largest Coefs:\\n{}\\n'.format(feature_names[sorted_coef_index[:-11:-1]]))"
   ]
  },
  {
   "cell_type": "code",
   "execution_count": 47,
   "id": "ebbf4280",
   "metadata": {},
   "outputs": [
    {
     "data": {
      "text/plain": [
       "array([-0.25880291,  0.19583603,  0.02249367, ...,  0.00115398,\n",
       "        0.153294  ,  0.01216856])"
      ]
     },
     "execution_count": 47,
     "metadata": {},
     "output_type": "execute_result"
    }
   ],
   "source": [
    "model.coef_[0]"
   ]
  },
  {
   "cell_type": "code",
   "execution_count": 41,
   "id": "312e1014",
   "metadata": {
    "scrolled": true
   },
   "outputs": [
    {
     "data": {
      "text/plain": [
       "array([52310, 21272, 26705, ..., 18547, 18377, 18376], dtype=int64)"
      ]
     },
     "execution_count": 41,
     "metadata": {},
     "output_type": "execute_result"
    }
   ],
   "source": [
    "# sorted_coef_index"
   ]
  },
  {
   "cell_type": "code",
   "execution_count": 35,
   "id": "7d48e7c5",
   "metadata": {},
   "outputs": [
    {
     "data": {
      "text/plain": [
       "array(['worst', 'garbage', 'junk', 'unusable', 'false', 'worthless',\n",
       "       'useless', 'crashing', 'disappointing', 'awful'], dtype=object)"
      ]
     },
     "execution_count": 35,
     "metadata": {},
     "output_type": "execute_result"
    }
   ],
   "source": [
    "# feature_names[sorted_coef_index[:10]]"
   ]
  },
  {
   "cell_type": "code",
   "execution_count": 43,
   "id": "e9b15e92",
   "metadata": {},
   "outputs": [
    {
     "data": {
      "text/plain": [
       "array(['excelent', 'excelente', 'exelente', 'loving', 'loves', 'perfecto',\n",
       "       'excellent', 'complaints', 'awesome', 'buen'], dtype=object)"
      ]
     },
     "execution_count": 43,
     "metadata": {},
     "output_type": "execute_result"
    }
   ],
   "source": [
    "# feature_names[sorted_coef_index[:-11:-1]]"
   ]
  },
  {
   "cell_type": "markdown",
   "id": "172ea35e",
   "metadata": {},
   "source": [
    "### Term Frequency-Inverse Document Frequency (Tfidf)\n",
    "\n",
    "<br>\n",
    "\n",
    "- Features with low tf–idf are either commonly used across all documents or rarely used and only occur in long documents.\n",
    "- Features with high tf–idf are frequently used within specific documents, but rarely used across all documents.\n",
    "\n",
    "<br>\n",
    "CountVectorizor and tf–idf Vectorizor both take an argument,\n",
    "mindf, which allows us to specify a minimum number of documents\n",
    "in which a token needs to appear to become part of the vocabulary. \n",
    "\n",
    "<br>\n",
    "\n",
    "This helps us remove some words that might appear in only a few and\n",
    "are unlikely to be useful predictors.\n",
    "For example, here we'll pass in min_df = 5, which will remove any words\n",
    "from our vocabulary that appear in fewer than five documents. "
   ]
  },
  {
   "cell_type": "code",
   "execution_count": 15,
   "id": "52d79ba4",
   "metadata": {},
   "outputs": [
    {
     "data": {
      "text/plain": [
       "17951"
      ]
     },
     "execution_count": 15,
     "metadata": {},
     "output_type": "execute_result"
    }
   ],
   "source": [
    "from sklearn.feature_extraction.text import TfidfVectorizer\n",
    "\n",
    "tfidf_vect = TfidfVectorizer(min_df=5).fit(X_train)\n",
    "feature_names_tf = tfidf_vect.get_feature_names_out()\n",
    "len(feature_names_tf)"
   ]
  },
  {
   "cell_type": "markdown",
   "id": "a9fd3e03",
   "metadata": {},
   "source": [
    "**Num of features 've been reduced from 53216 to 17951**"
   ]
  },
  {
   "cell_type": "code",
   "execution_count": 16,
   "id": "378fa47b",
   "metadata": {},
   "outputs": [],
   "source": [
    "X_train_vectorized_tf = tfidf_vect.transform(X_train)\n",
    "\n",
    "# tf_model = LogisticRegression()\n",
    "# model.fit(X_train_vectorized_tf,y_train)\n",
    "\n",
    "# tf_predictions = model.predict(tfidf_vect.transform(X_test))\n",
    "\n",
    "# print('AUC: ',roc_auc_score(y_test,tf_predictions))"
   ]
  },
  {
   "cell_type": "code",
   "execution_count": 17,
   "id": "97e68c04",
   "metadata": {},
   "outputs": [
    {
     "name": "stdout",
     "output_type": "stream",
     "text": [
      "Smallest Coefs:\n",
      "['commenter' 'pthalo' 'warmness' 'storageso' 'aggregration' '1300'\n",
      " '625nits' 'a10' 'submarket' 'brawns']\n",
      "\n",
      "Largest Coefs:\n",
      "['defective' 'batteries' 'gooood' 'epic' 'luis' 'goood' 'basico'\n",
      " 'aceptable' 'problems' 'excellant']\n",
      "\n"
     ]
    }
   ],
   "source": [
    "sorted_tfidf_index = X_train_vectorized_tf.max(0).toarray()[0].argsort()\n",
    "\n",
    "print('Smallest Coefs:\\n{}\\n'.format(feature_names_tf[sorted_tfidf_index[0:10]]))\n",
    "print('Largest Coefs:\\n{}\\n'.format(feature_names_tf[sorted_tfidf_index[:-11:-1]]))"
   ]
  },
  {
   "cell_type": "code",
   "execution_count": 71,
   "id": "280dc557",
   "metadata": {},
   "outputs": [
    {
     "data": {
      "text/plain": [
       "<231207x17951 sparse matrix of type '<class 'numpy.float64'>'\n",
       "\twith 6056695 stored elements in Compressed Sparse Row format>"
      ]
     },
     "execution_count": 71,
     "metadata": {},
     "output_type": "execute_result"
    }
   ],
   "source": [
    "# X_train_vectorized_tf"
   ]
  },
  {
   "cell_type": "code",
   "execution_count": 73,
   "id": "b251da81",
   "metadata": {},
   "outputs": [
    {
     "data": {
      "text/plain": [
       "<1x17951 sparse matrix of type '<class 'numpy.float64'>'\n",
       "\twith 17951 stored elements in COOrdinate format>"
      ]
     },
     "execution_count": 73,
     "metadata": {},
     "output_type": "execute_result"
    }
   ],
   "source": [
    "# X_train_vectorized_tf.max(0)"
   ]
  },
  {
   "cell_type": "code",
   "execution_count": 74,
   "id": "c545afc5",
   "metadata": {},
   "outputs": [
    {
     "data": {
      "text/plain": [
       "array([[0.71042189, 0.32454897, 0.31976905, ..., 0.4614497 , 0.49678755,\n",
       "        0.49678755]])"
      ]
     },
     "execution_count": 74,
     "metadata": {},
     "output_type": "execute_result"
    }
   ],
   "source": [
    "# X_train_vectorized_tf.max(0).toarray()"
   ]
  },
  {
   "cell_type": "code",
   "execution_count": 76,
   "id": "50b420a2",
   "metadata": {},
   "outputs": [
    {
     "data": {
      "text/plain": [
       "array([0.71042189, 0.32454897, 0.31976905, ..., 0.4614497 , 0.49678755,\n",
       "       0.49678755])"
      ]
     },
     "execution_count": 76,
     "metadata": {},
     "output_type": "execute_result"
    }
   ],
   "source": [
    "# X_train_vectorized_tf.max(0).toarray()[0]"
   ]
  },
  {
   "cell_type": "code",
   "execution_count": 77,
   "id": "d4fb9526",
   "metadata": {},
   "outputs": [
    {
     "data": {
      "text/plain": [
       "array([ 3624, 12532, 17320, ...,  7414,  2184,  4635], dtype=int64)"
      ]
     },
     "execution_count": 77,
     "metadata": {},
     "output_type": "execute_result"
    }
   ],
   "source": [
    "# X_train_vectorized_tf.max(0).toarray()[0].argsort()"
   ]
  },
  {
   "cell_type": "code",
   "execution_count": 78,
   "id": "eb9b92f9",
   "metadata": {},
   "outputs": [
    {
     "data": {
      "text/plain": [
       "array(['commenter', 'pthalo', 'warmness', 'storageso', 'aggregration',\n",
       "       '1300', '625nits', 'a10', 'submarket', 'brawns'], dtype=object)"
      ]
     },
     "execution_count": 78,
     "metadata": {},
     "output_type": "execute_result"
    }
   ],
   "source": [
    "# feature_names_tf[X_train_vectorized_tf.max(0).toarray()[0].argsort()[0:10]]"
   ]
  },
  {
   "cell_type": "code",
   "execution_count": 80,
   "id": "d65a5f12",
   "metadata": {},
   "outputs": [
    {
     "data": {
      "text/plain": [
       "array(['defective', 'batteries', 'gooood', 'epic', 'luis', 'goood',\n",
       "       'basico', 'aceptable', 'problems', 'excellant'], dtype=object)"
      ]
     },
     "execution_count": 80,
     "metadata": {},
     "output_type": "execute_result"
    }
   ],
   "source": [
    "# feature_names_tf[X_train_vectorized_tf.max(0).toarray()[0].argsort()[:-11:-1]]"
   ]
  },
  {
   "cell_type": "code",
   "execution_count": null,
   "id": "d61eaa44",
   "metadata": {},
   "outputs": [],
   "source": []
  }
 ],
 "metadata": {
  "kernelspec": {
   "display_name": "Python 3 (ipykernel)",
   "language": "python",
   "name": "python3"
  },
  "language_info": {
   "codemirror_mode": {
    "name": "ipython",
    "version": 3
   },
   "file_extension": ".py",
   "mimetype": "text/x-python",
   "name": "python",
   "nbconvert_exporter": "python",
   "pygments_lexer": "ipython3",
   "version": "3.8.1"
  }
 },
 "nbformat": 4,
 "nbformat_minor": 5
}
